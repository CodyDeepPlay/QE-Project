{
 "cells": [
  {
   "cell_type": "markdown",
   "id": "7e8675de",
   "metadata": {},
   "source": [
    "\n",
    "# Group Project - Transfer Quality Estimation"
   ]
  },
  {
   "cell_type": "code",
   "execution_count": 1,
   "id": "3f14ccaf",
   "metadata": {},
   "outputs": [],
   "source": [
    "# pip install openkiwi==0.1.2\n",
    "import kiwi\n",
    "import torch\n",
    "import numpy as np\n",
    "\n",
    "import torch.nn as nn\n",
    "import torch.optim as optim\n",
    "\n",
    "import shutil\n",
    "\n",
    "import os\n",
    "import csv\n",
    "import glob\n",
    "\n",
    "from kiwi.data.utils import read_file\n",
    "from pathlib import Path\n",
    "from more_itertools import all_equal, flatten\n",
    "\n",
    "import subprocess\n",
    "\n",
    "import yaml\n",
    "from ipywidgets import interact, fixed, Textarea\n",
    "from functools import partial\n",
    "%load_ext yamlmagic"
   ]
  },
  {
   "cell_type": "code",
   "execution_count": 2,
   "id": "e48b2b0a",
   "metadata": {},
   "outputs": [],
   "source": [
    "# define a function to read my data\n",
    "def readData(file):\n",
    "\n",
    "    tsv_file = open(file)\n",
    "    read_tsv = csv.reader(tsv_file, delimiter=\"\\t\")\n",
    "    tsv_content = [row[0] for row in read_tsv]\n",
    "    \n",
    "#     keys    = tsv_content[0]\n",
    "#     content = tsv_content[1:]\n",
    "    \n",
    "    return tsv_content"
   ]
  },
  {
   "cell_type": "code",
   "execution_count": 3,
   "id": "9bf7e89f",
   "metadata": {},
   "outputs": [],
   "source": [
    "def myStrReformat(an_input, tag = 'tags'):\n",
    "    '''\n",
    "    tag is a string, indicate where the data is from.\n",
    "    It has different format if from different sources.\n",
    "    \n",
    "    ['tags', 'gap_tags', 'sentence_scores']\n",
    "    \n",
    "    'tags' and 'gap_tags' have the same format.\n",
    "    'sentence_scores' has different format. \n",
    "    \n",
    "    an_input,\n",
    "        the input data for the tags. \n",
    "    \n",
    "    \n",
    "    '''\n",
    "    str_tag = []\n",
    "    for a_group in an_input:\n",
    "\n",
    "        # 'sentence_scores' tags are with different format. \n",
    "        if tag == 'sentence_scores':\n",
    "            a_group_str = str(a_group)\n",
    "            \n",
    "        # below is for 'tags' and 'gap_tags'    \n",
    "        else:\n",
    "            a_group_str = []\n",
    "            for a_tag in a_group: a_group_str.append(str(a_tag))\n",
    "\n",
    "        str_tag.append(a_group_str)\n",
    "        \n",
    "        \n",
    "\n",
    "    return str_tag"
   ]
  },
  {
   "cell_type": "code",
   "execution_count": 4,
   "id": "a09db1ba",
   "metadata": {},
   "outputs": [],
   "source": [
    "def concat(probabilities, prob_sep='|', token_sep='\\n', sentence_sep='\\n\\n'):\n",
    "    flat_probabilities = [list(flatten(probs)) for probs in probabilities]\n",
    "#     if not all_equal([len(p) for p in flat_probabilities]):\n",
    "#         logger.error('Number of tokens do not match.')\n",
    "#         return None\n",
    "\n",
    "    probs_per_token_sentence_file = [\n",
    "        list(zip(*parallel_probs)) for parallel_probs in zip(*probabilities)\n",
    "    ]\n",
    "\n",
    "    content_str = sentence_sep.join(\n",
    "        [\n",
    "            token_sep.join(\n",
    "                [prob_sep.join(map(str, tokens)) for tokens in sentence]\n",
    "            )\n",
    "            for sentence in probs_per_token_sentence_file\n",
    "        ]\n",
    "    )\n",
    "    content_str += sentence_sep  # Add a trailing newline before EOF.\n",
    "\n",
    "    return content_str"
   ]
  },
  {
   "cell_type": "code",
   "execution_count": 5,
   "id": "9c4bdc29",
   "metadata": {},
   "outputs": [],
   "source": [
    "def concat_tags(tags_read, word_gap='\\t', sentence_gap ='\\n'):\n",
    "    '''\n",
    "    Within each sentence, separate the words with ' '; between each sentence,\n",
    "    separate the sentences with '\\n'.\n",
    "\n",
    "\n",
    "    tags_read,\n",
    "    a list, each element is a sublist,\n",
    "    within sublist, each element is a string of a prediction score.\n",
    "\n",
    "    '''\n",
    "\n",
    "    sentence_level_join = [ word_gap.join( a_sentence ) for a_sentence in tags_read]\n",
    "\n",
    "    all_sentences_join = sentence_gap.join( sentence_level_join )\n",
    "    all_sentences_join += sentence_gap\n",
    "\n",
    "\n",
    "\n",
    "\n",
    "    return all_sentences_join"
   ]
  },
  {
   "cell_type": "code",
   "execution_count": 6,
   "id": "37bdba55",
   "metadata": {},
   "outputs": [],
   "source": [
    "def save_config(yaml_config, name):\n",
    "    \"\"\" Writes yaml config to file\"\"\"\n",
    "    with open(name, 'w') as outfile:\n",
    "        yaml.dump(yaml_config, outfile, default_flow_style=False)"
   ]
  },
  {
   "cell_type": "markdown",
   "id": "128e438d",
   "metadata": {},
   "source": [
    "## Replicate WMT18 result as our baseline, word level and setence level using en_de.nmt data"
   ]
  },
  {
   "cell_type": "code",
   "execution_count": 9,
   "id": "a2102b54",
   "metadata": {},
   "outputs": [],
   "source": [
    "# directory\n",
    "KIWI         = os.getcwd()\n",
    "# KIWI = KIWI + '/baselineWMT18'\n",
    "# which_target = '/target_1'\n",
    "# which_output = '/tags'\n",
    "\n",
    "SCRIPT_DIR = KIWI + '/baseline'\n",
    "# LINEAR_DIR=  SCRIPT_DIR + '/linear'\n",
    "\n",
    "# RUN_DIR     = SCRIPT_DIR + '/estimator'\n",
    "WORD_DIR   = KIWI + '/data/word-level/en_de.nmt'\n",
    "SENT_DIR    = KIWI + '/data/sentence_level/en_de'\n",
    "\n",
    "PREDICTIONS_DIR = 'predictions_baseline'"
   ]
  },
  {
   "cell_type": "code",
   "execution_count": 10,
   "id": "bf41208e",
   "metadata": {},
   "outputs": [],
   "source": [
    "MODEL_DIR = os.listdir(SCRIPT_DIR)\n",
    "test_source = WORD_DIR+'/dev.src'\n",
    "test_target = WORD_DIR+'/dev.mt'\n",
    "test_alignment = WORD_DIR + '/dev.src-mt.alignments'\n",
    "test_source = readData(test_source)\n",
    "test_target = readData(test_target)\n",
    "test_alignment = readData(test_alignment)\n",
    "examples = {'source': test_source,'target': test_target}\n",
    "examples2 = {'source': test_source,'target': test_target, 'alignments':test_alignment}"
   ]
  },
  {
   "cell_type": "code",
   "execution_count": 11,
   "id": "4ce70547",
   "metadata": {},
   "outputs": [],
   "source": [
    "# make 'linear' as the folder appear the last.\n",
    "MODEL_DIR.remove('linear')\n",
    "MODEL_DIR.append('linear')"
   ]
  },
  {
   "cell_type": "code",
   "execution_count": 13,
   "id": "05de2dc0",
   "metadata": {},
   "outputs": [
    {
     "name": "stdout",
     "output_type": "stream",
     "text": [
      "stacking probablities for linear model\n",
      "=========================================\n",
      "=====predicting using linear model\n",
      "print LINEAR_OUT_DEV /Users/roseyao/Documents/GIT/7643DeepLearning/Project_Final/predictions_baseline/linear/dev\n",
      "Predicting with model linear\n",
      "============================================================\n",
      "Generating dev set predictions...\n",
      "=========================================\n"
     ]
    }
   ],
   "source": [
    "## produce output for ape, nuqe and estimators\n",
    "## use linear model to score stacked output for APE, nuqe and estimators\n",
    "\n",
    "\n",
    "for MODEL_NAME in MODEL_DIR:\n",
    "    if MODEL_NAME == 'ape':\n",
    "        RUN_DIR = os.listdir(SCRIPT_DIR+'/'+MODEL_NAME)\n",
    "        for RUN_NAME in RUN_DIR:\n",
    "            if RUN_NAME !='.DS_Store':\n",
    "                SIDE = SCRIPT_DIR+'/'+MODEL_NAME+'/'+RUN_NAME\n",
    "                OUTPUT_DIR =  PREDICTIONS_DIR +'/'+MODEL_NAME+'/'+RUN_NAME\n",
    "                print('Copying ape ' +RUN_NAME+ ' model predictions')\n",
    "                copyape = shutil.copytree(SIDE, OUTPUT_DIR) \n",
    "                print ('Copied ape ' +RUN_NAME)\n",
    "                print('=========================================')\n",
    "                \n",
    "    if MODEL_NAME == 'estimator':\n",
    "        RUN_DIR = os.listdir(SCRIPT_DIR+'/'+MODEL_NAME)\n",
    "        for RUN_NAME in RUN_DIR:\n",
    "            if RUN_NAME !='.DS_Store':\n",
    "\n",
    "                configfile = SCRIPT_DIR+'/' +MODEL_NAME +'/'+ RUN_NAME+'/predict.yaml'\n",
    "                modelfile = SCRIPT_DIR+'/' +MODEL_NAME +'/'+ RUN_NAME+'/model.torch'\n",
    "                model = kiwi.load_model(modelfile)\n",
    "                modelout = model.predict(examples)\n",
    "                \n",
    "                for tag in list(modelout.keys()):\n",
    "                    \n",
    "                    print('making estimator ' +RUN_NAME+ ' '+ tag + ' model predictions')\n",
    "\n",
    "                    all_sentences_join = concat_tags(    myStrReformat(modelout[tag], tag=tag)  )\n",
    "\n",
    "                    outpath = PREDICTIONS_DIR +'/'+MODEL_NAME+'/'+RUN_NAME + '/dev'\n",
    "                    myfile = outpath+'/'+tag\n",
    "                    \n",
    "\n",
    "                    isExist = os.path.exists(outpath)\n",
    "\n",
    "                    if not isExist:\n",
    "                        # Create a new directory because it does not exist \n",
    "                        os.makedirs(outpath)\n",
    "                    #     print(\"The new directory is created!\")\n",
    "\n",
    "                    Path(myfile).write_text(all_sentences_join)     \n",
    "                    \n",
    "                    if tag == 'sentence_scores':\n",
    "                        sentence_space = read_file(myfile)\n",
    "                        sentence_no_space_to_write = concat_tags(sentence_space, word_gap='', sentence_gap ='\\n')\n",
    "                        myoutput = outpath+'/'+tag+'_nospace'\n",
    "                        Path(myoutput).write_text(sentence_no_space_to_write)\n",
    "\n",
    "                    print('=========================================')\n",
    "                    \n",
    "                    \n",
    "                                \n",
    "    if MODEL_NAME == 'nuqe':\n",
    "        RUN_DIR = os.listdir(SCRIPT_DIR+'/'+MODEL_NAME)\n",
    "        for RUN_NAME in RUN_DIR:\n",
    "            if RUN_NAME !='.DS_Store':\n",
    "\n",
    "                configfile = SCRIPT_DIR+'/' +MODEL_NAME +'/'+ RUN_NAME+'/predict.yaml'\n",
    "                modelfile = SCRIPT_DIR+'/' +MODEL_NAME +'/'+ RUN_NAME+'/model.torch'\n",
    "                model = kiwi.load_model(modelfile)\n",
    "                modelout = model.predict(examples2)\n",
    "                \n",
    "                for tag in list(modelout.keys()):\n",
    "                    \n",
    "                    print('making nuqe ' +RUN_NAME+ ' '+ tag + ' model predictions')\n",
    "\n",
    "                    all_sentences_join = concat_tags(    myStrReformat(modelout[tag], tag=tag)  )\n",
    "\n",
    "                    outpath = PREDICTIONS_DIR +'/'+MODEL_NAME+'/'+RUN_NAME + '/dev'\n",
    "                    myfile = outpath+'/'+tag\n",
    "                    \n",
    "\n",
    "                    isExist = os.path.exists(outpath)\n",
    "\n",
    "                    if not isExist:\n",
    "                        # Create a new directory because it does not exist \n",
    "                        os.makedirs(outpath)\n",
    "                    #     print(\"The new directory is created!\")\n",
    "\n",
    "                    Path(myfile).write_text(all_sentences_join)\n",
    "\n",
    "                    print('=========================================')\n",
    "                    \n",
    "    if MODEL_NAME == 'linear':\n",
    "        ## stack probability for linear model\n",
    "        \n",
    "        print('stacking probablities for linear model')  \n",
    "        \n",
    "        APE_mt_tags     = PREDICTIONS_DIR + '/ape/mt_pe/dev/tags'\n",
    "        APE_source_tags = PREDICTIONS_DIR + '/ape/src_pe/dev/tags'\n",
    "        target1_tags    = PREDICTIONS_DIR + '/estimator/target_1/dev/tags' \n",
    "        target2_tags    = PREDICTIONS_DIR + '/estimator/target_2/dev/tags' \n",
    "        target3_tags    = PREDICTIONS_DIR + '/estimator/target_3/dev/tags' \n",
    "        target4_tags    = PREDICTIONS_DIR + '/estimator/target_4/dev/tags' \n",
    "        nuqe_tags       = PREDICTIONS_DIR + '/nuqe/target/dev/tags' \n",
    "\n",
    "        predicted_file = [APE_mt_tags, APE_source_tags, target1_tags, target2_tags, target3_tags, target4_tags, nuqe_tags]\n",
    "\n",
    "        probabilities = [read_file(file) for file in predicted_file]\n",
    "\n",
    "        lengths = [len(prob) for prob in probabilities]\n",
    "\n",
    "        stacked_probabilities = concat(probabilities)\n",
    "\n",
    "        outpath = PREDICTIONS_DIR +'/' +MODEL_NAME +'/dev'\n",
    "        myfile = outpath+'/tags.stacked'\n",
    "\n",
    "        isExist = os.path.exists(outpath)\n",
    "\n",
    "        if not isExist:\n",
    "            # Create a new directory because it does not exist \n",
    "            os.makedirs(outpath)\n",
    "        #     print(\"The new directory is created!\")\n",
    "\n",
    "        Path(myfile).write_text(stacked_probabilities)\n",
    "\n",
    "        print('=========================================')   \n",
    "        \n",
    "        print('=====predicting using linear model')  \n",
    "        \n",
    "        myshell = SCRIPT_DIR + '/run_linear.sh'\n",
    "        myshell\n",
    "        subprocess.run([myshell], shell = True)\n",
    "        print('=========================================')   \n",
    "                    \n",
    "                    "
   ]
  },
  {
   "cell_type": "markdown",
   "id": "8e7d9c68",
   "metadata": {},
   "source": [
    "## Below are all the evaluation results for baseline model."
   ]
  },
  {
   "cell_type": "code",
   "execution_count": 16,
   "id": "a3824b72",
   "metadata": {},
   "outputs": [
    {
     "data": {
      "application/javascript": [
       "\n",
       "            require(\n",
       "                [\n",
       "                    \"notebook/js/codecell\",\n",
       "                    \"codemirror/mode/yaml/yaml\"\n",
       "                ],\n",
       "                function(cc){\n",
       "                    cc.CodeCell.options_default.highlight_modes.magic_yaml = {\n",
       "                        reg: [\"^%%yaml\"]\n",
       "                    }\n",
       "                }\n",
       "            );\n",
       "            "
      ],
      "text/plain": [
       "<IPython.core.display.Javascript object>"
      ]
     },
     "metadata": {},
     "output_type": "display_data"
    }
   ],
   "source": [
    "%%yaml stackedtag_evaluate\n",
    "# ==========  Stacked Linear Model (target tags)  ==========\n",
    "# Example file for configuring the evaluation pipeline\n",
    "#\n",
    "# The input type for prediction files (Probabilities[probs] or tags)\n",
    "# type: tags\n",
    " \n",
    "# The format of gold files (wmt17/wmt18)\n",
    "format: wmt18\n",
    "\n",
    "# Format of predictions (wmt17/wmt18). Either they predict gaps or not.\n",
    "pred-format: wmt17\n",
    "\n",
    "# File path for the reference files\n",
    "gold-target: data/word-level/en_de.nmt/dev.tags\n",
    "\n",
    "# File path for the prediction files\n",
    "pred-target: predictions_baseline/linear/dev/tags"
   ]
  },
  {
   "cell_type": "code",
   "execution_count": 17,
   "id": "f17fd90a",
   "metadata": {},
   "outputs": [
    {
     "name": "stdout",
     "output_type": "stream",
     "text": [
      "---------------------------------------------------------------------------\r\n",
      "Word-level scores for tags:\r\n",
      "File                                    F1_mult      F1_OK        F1_BAD   \r\n",
      "predictions_baseline/linear/dev/tags    0.44114      0.91768      0.48072  \r\n"
     ]
    }
   ],
   "source": [
    "save_config(stackedtag_evaluate, 'stackedtag_evaluate.yml')\n",
    "!kiwi evaluate --config stackedtag_evaluate.yml"
   ]
  },
  {
   "cell_type": "code",
   "execution_count": 18,
   "id": "1fa30013",
   "metadata": {},
   "outputs": [
    {
     "data": {
      "application/javascript": [
       "\n",
       "            require(\n",
       "                [\n",
       "                    \"notebook/js/codecell\",\n",
       "                    \"codemirror/mode/yaml/yaml\"\n",
       "                ],\n",
       "                function(cc){\n",
       "                    cc.CodeCell.options_default.highlight_modes.magic_yaml = {\n",
       "                        reg: [\"^%%yaml\"]\n",
       "                    }\n",
       "                }\n",
       "            );\n",
       "            "
      ],
      "text/plain": [
       "<IPython.core.display.Javascript object>"
      ]
     },
     "metadata": {},
     "output_type": "display_data"
    }
   ],
   "source": [
    "%%yaml targettags_evaluate\n",
    "# ==========  Average Ensemble Model (target tags)  ==========\n",
    "# Example file for configuring the evaluation pipeline\n",
    "#\n",
    "# The input type for prediction files (Probabilities[probs] or tags)\n",
    "# type: tags\n",
    " \n",
    "# The format of gold files (wmt17/wmt18)\n",
    "format: wmt18\n",
    "\n",
    "# Format of predictions (wmt17/wmt18). Either they predict gaps or not.\n",
    "pred-format: wmt17\n",
    "\n",
    "# File path for the reference files\n",
    "gold-target: data/word-level/en_de.nmt/dev.tags\n",
    "\n",
    "# File path for the prediction files\n",
    "pred-target: [predictions_baseline/estimator/target_1/dev/tags,\n",
    "              predictions_baseline/estimator/target_2/dev/tags,\n",
    "              predictions_baseline/estimator/target_3/dev/tags,\n",
    "              predictions_baseline/estimator/target_4/dev/tags,\n",
    "              predictions_baseline/ape/src_pe/dev/tags,\n",
    "              predictions_baseline/ape/mt_pe/dev/tags,\n",
    "              predictions_baseline/nuqe/target/dev/tags]"
   ]
  },
  {
   "cell_type": "code",
   "execution_count": 19,
   "id": "cae861cf",
   "metadata": {},
   "outputs": [
    {
     "name": "stdout",
     "output_type": "stream",
     "text": [
      "------------------------------------------------------------------\r\n",
      "Word-level scores for tags:\r\n",
      "File (predictions_baseline)    F1_mult      F1_OK        F1_BAD   \r\n",
      "*ensemble*                     0.42984      0.93154      0.46143  \r\n",
      "estimator/target_2/dev/tags    0.39154      0.91794      0.42654  \r\n",
      "estimator/target_1/dev/tags    0.38646      0.9063       0.42642  \r\n",
      "estimator/target_4/dev/tags    0.38601      0.89551      0.43105  \r\n",
      "estimator/target_3/dev/tags    0.38268      0.91024      0.42042  \r\n",
      "ape/src_pe/dev/tags            0.37535      0.87182      0.43054  \r\n",
      "nuqe/target/dev/tags           0.31824      0.90716      0.35080  \r\n",
      "ape/mt_pe/dev/tags             0.10961      0.93035      0.11782  \r\n"
     ]
    }
   ],
   "source": [
    "save_config(targettags_evaluate, 'targettags_evaluate.yml')\n",
    "!kiwi evaluate --config targettags_evaluate.yml"
   ]
  },
  {
   "cell_type": "code",
   "execution_count": 20,
   "id": "c6a9a684",
   "metadata": {},
   "outputs": [
    {
     "data": {
      "application/javascript": [
       "\n",
       "            require(\n",
       "                [\n",
       "                    \"notebook/js/codecell\",\n",
       "                    \"codemirror/mode/yaml/yaml\"\n",
       "                ],\n",
       "                function(cc){\n",
       "                    cc.CodeCell.options_default.highlight_modes.magic_yaml = {\n",
       "                        reg: [\"^%%yaml\"]\n",
       "                    }\n",
       "                }\n",
       "            );\n",
       "            "
      ],
      "text/plain": [
       "<IPython.core.display.Javascript object>"
      ]
     },
     "metadata": {},
     "output_type": "display_data"
    }
   ],
   "source": [
    "%%yaml gaptags_evaluate\n",
    "# ==========  Average Ensemble Model (gap tags)  ==========\n",
    "# Example file for configuring the evaluation pipeline\n",
    "#\n",
    "# The input type for prediction files (Probabilities[probs] or tags)\n",
    "# type: tags\n",
    " \n",
    "# The format of gold files (wmt17/wmt18)\n",
    "format: wmt18\n",
    "\n",
    "# Format of predictions (wmt17/wmt18). Either they predict gaps or not.\n",
    "pred-format: wmt17\n",
    "\n",
    "# File path for the reference files\n",
    "gold-target: data/word-level/en_de.nmt/dev.tags\n",
    "\n",
    "# File path for the prediction files\n",
    "pred-gaps: [predictions_baseline/estimator/target_1/dev/gap_tags,\n",
    "              predictions_baseline/estimator/target_2/dev/gap_tags,\n",
    "              predictions_baseline/estimator/target_3/dev/gap_tags,\n",
    "              predictions_baseline/estimator/target_4/dev/gap_tags,\n",
    "              predictions_baseline/ape/src_pe/dev/gap_tags,\n",
    "              predictions_baseline/ape/mt_pe/dev/gap_tags,\n",
    "              predictions_baseline/nuqe/gaps/dev/gap_tags]\n",
    "                        "
   ]
  },
  {
   "cell_type": "code",
   "execution_count": 22,
   "id": "43c48eb0",
   "metadata": {},
   "outputs": [
    {
     "name": "stdout",
     "output_type": "stream",
     "text": [
      "----------------------------------------------------------------------\r\n",
      "Word-level scores for gap_tags:\r\n",
      "File (predictions_baseline)        F1_mult      F1_OK        F1_BAD   \r\n",
      "*ensemble*                         0.24596      0.98889      0.24872  \r\n",
      "ape/src_pe/dev/gap_tags            0.21709      0.97691      0.22222  \r\n",
      "estimator/target_3/dev/gap_tags    0.20058      0.97785      0.20513  \r\n",
      "estimator/target_2/dev/gap_tags    0.19112      0.98109      0.19481  \r\n",
      "ape/mt_pe/dev/gap_tags             0.18978      0.98749      0.19218  \r\n",
      "estimator/target_4/dev/gap_tags    0.18868      0.9825       0.19204  \r\n",
      "estimator/target_1/dev/gap_tags    0.18662      0.97599      0.19121  \r\n",
      "nuqe/gaps/dev/gap_tags             0.16613      0.98256      0.16908  \r\n"
     ]
    }
   ],
   "source": [
    "save_config(gaptags_evaluate, 'gaptags_evaluate.yml')\n",
    "!kiwi evaluate --config gaptags_evaluate.yml  "
   ]
  },
  {
   "cell_type": "code",
   "execution_count": 23,
   "id": "a68f9480",
   "metadata": {},
   "outputs": [
    {
     "data": {
      "application/javascript": [
       "\n",
       "            require(\n",
       "                [\n",
       "                    \"notebook/js/codecell\",\n",
       "                    \"codemirror/mode/yaml/yaml\"\n",
       "                ],\n",
       "                function(cc){\n",
       "                    cc.CodeCell.options_default.highlight_modes.magic_yaml = {\n",
       "                        reg: [\"^%%yaml\"]\n",
       "                    }\n",
       "                }\n",
       "            );\n",
       "            "
      ],
      "text/plain": [
       "<IPython.core.display.Javascript object>"
      ]
     },
     "metadata": {},
     "output_type": "display_data"
    }
   ],
   "source": [
    "%%yaml sourcetags_evaluate\n",
    "# ==========  Average Ensemble Model (source tags)  ==========\n",
    "# Example file for configuring the evaluation pipeline\n",
    "#\n",
    "# The input type for prediction files (Probabilities[probs] or tags)\n",
    "# type: tags\n",
    " \n",
    "# The format of gold files (wmt17/wmt18)\n",
    "format: wmt18\n",
    "\n",
    "# Format of predictions (wmt17/wmt18). Either they predict gaps or not.\n",
    "pred-format: wmt17\n",
    "\n",
    "# File path for the reference files\n",
    "gold-source: data/word-level/en_de.nmt/dev.src_tags\n",
    "\n",
    "# File path for the prediction files\n",
    "pred-source: [predictions_baseline/estimator/source/dev/source_tags ,\n",
    "              predictions_baseline/ape/src_pe/dev/source_tags,\n",
    "              predictions_baseline/ape/mt_pe/dev/source_tags,\n",
    "              predictions_baseline/nuqe/source/dev/source_tags]\n",
    "                        "
   ]
  },
  {
   "cell_type": "code",
   "execution_count": 24,
   "id": "040537ee",
   "metadata": {},
   "outputs": [
    {
     "name": "stdout",
     "output_type": "stream",
     "text": [
      "-----------------------------------------------------------------------\r\n",
      "Word-level scores for source_tags:\r\n",
      "File (predictions_baseline)         F1_mult      F1_OK        F1_BAD   \r\n",
      "ape/src_pe/dev/source_tags          0.34533      0.86644      0.39856  \r\n",
      "*ensemble*                          0.30920      0.93068      0.33223  \r\n",
      "nuqe/source/dev/source_tags         0.30304      0.8977       0.33758  \r\n",
      "estimator/source/dev/source_tags    0.29327      0.89974      0.32595  \r\n",
      "ape/mt_pe/dev/source_tags           0.09245      0.92956      0.09945  \r\n"
     ]
    }
   ],
   "source": [
    "save_config(sourcetags_evaluate, 'sourcetags_evaluate.yml')\n",
    "!kiwi evaluate --config sourcetags_evaluate.yml  "
   ]
  },
  {
   "cell_type": "code",
   "execution_count": 25,
   "id": "a30e0419",
   "metadata": {},
   "outputs": [
    {
     "data": {
      "application/javascript": [
       "\n",
       "            require(\n",
       "                [\n",
       "                    \"notebook/js/codecell\",\n",
       "                    \"codemirror/mode/yaml/yaml\"\n",
       "                ],\n",
       "                function(cc){\n",
       "                    cc.CodeCell.options_default.highlight_modes.magic_yaml = {\n",
       "                        reg: [\"^%%yaml\"]\n",
       "                    }\n",
       "                }\n",
       "            );\n",
       "            "
      ],
      "text/plain": [
       "<IPython.core.display.Javascript object>"
      ]
     },
     "metadata": {},
     "output_type": "display_data"
    }
   ],
   "source": [
    "%%yaml sentencescores_evaluate\n",
    "# ==========  Average Ensemble Model (sentence scores)  ==========\n",
    "# Example file for configuring the evaluation pipeline\n",
    "#\n",
    "# The input type for prediction files (Probabilities[probs] or tags)\n",
    "# type: tags\n",
    " \n",
    "# The format of gold files (wmt17/wmt18)\n",
    "format: wmt18\n",
    "\n",
    "# Format of predictions (wmt17/wmt18). Either they predict gaps or not.\n",
    "pred-format: wmt17\n",
    "\n",
    "# File path for the reference files\n",
    "gold-sents: data/sentence_level/en_de/dev.nmt.hter\n",
    "\n",
    "# File path for the prediction files\n",
    "pred-sents: [predictions_baseline/estimator/target_1/dev/sentence_scores_nospace,\n",
    "              predictions_baseline/estimator/target_2/dev/sentence_scores_nospace,\n",
    "              predictions_baseline/estimator/target_3/dev/sentence_scores_nospace,\n",
    "              predictions_baseline/estimator/target_4/dev/sentence_scores_nospace]\n"
   ]
  },
  {
   "cell_type": "code",
   "execution_count": 26,
   "id": "5b3e0fd1",
   "metadata": {},
   "outputs": [
    {
     "name": "stdout",
     "output_type": "stream",
     "text": [
      "----------------------------------------------------------------------------\r\n",
      "Sentence-level scoring:\r\n",
      "File (predictions_baseline/estimator)    Pearson r    MAE          RMSE     \r\n",
      "*ensemble*                               0.52135      0.11146      0.16236  \r\n",
      "target_4/dev/sentence_scores_nospace     0.49223      0.14070      0.17561  \r\n",
      "target_1/dev/sentence_scores_nospace     0.49075      0.11220      0.16649  \r\n",
      "target_2/dev/sentence_scores_nospace     0.49053      0.11263      0.17098  \r\n",
      "target_3/dev/sentence_scores_nospace     0.47417      0.10782      0.17175  \r\n",
      "----------------------------------------------------------------------------\r\n",
      "Sentence-level ranking:\r\n",
      "File (predictions_baseline/estimator)    Spearman r    DeltaAvg \r\n",
      "*ensemble*                               0.56869       0.08266  \r\n",
      "target_2/dev/sentence_scores_nospace     0.55191       0.08088  \r\n",
      "target_4/dev/sentence_scores_nospace     0.54020       0.07987  \r\n",
      "target_3/dev/sentence_scores_nospace     0.53244       0.07856  \r\n",
      "target_1/dev/sentence_scores_nospace     0.52937       0.07900  \r\n"
     ]
    }
   ],
   "source": [
    "save_config(sentencescores_evaluate, 'sentencescores_evaluate.yml')\n",
    "!kiwi evaluate --config sentencescores_evaluate.yml  "
   ]
  },
  {
   "cell_type": "markdown",
   "id": "e5b3c2ef",
   "metadata": {},
   "source": [
    "## Transfer learning 1: Adding WMT2019 and 2020 data to transfer learn predictor estimator models 1-4"
   ]
  },
  {
   "cell_type": "code",
   "execution_count": 86,
   "id": "585d8145",
   "metadata": {},
   "outputs": [],
   "source": [
    "# directory\n",
    "KIWI         = os.getcwd()\n",
    "# KIWI = KIWI + '/transfer2'\n",
    "# which_target = '/target_1'\n",
    "# which_output = '/tags'\n",
    "\n",
    "SCRIPT_DIR = KIWI + '/transfer1'\n",
    "# LINEAR_DIR=  SCRIPT_DIR + '/linear'\n",
    "\n",
    "# RUN_DIR     = SCRIPT_DIR + '/estimator'\n",
    "WORD_DIR   = KIWI + '/data/word-level/en_de.nmt'\n",
    "SENT_DIR    = KIWI + '/data/sentence_level/en_de'\n",
    "\n",
    "PREDICTIONS_DIR = 'predictions_transfer1'\n",
    "PREDICTIONS_BASE = 'predictions_baseline'\n",
    "\n",
    "MODEL_DIR = os.listdir(SCRIPT_DIR)\n",
    "\n",
    "MODEL_DIR.remove('linear')\n",
    "MODEL_DIR.append('linear')"
   ]
  },
  {
   "cell_type": "code",
   "execution_count": 87,
   "id": "0c9ce2a5",
   "metadata": {},
   "outputs": [
    {
     "name": "stdout",
     "output_type": "stream",
     "text": [
      "making estimator target_2 tags model predictions\n",
      "=========================================\n",
      "making estimator target_2 gap_tags model predictions\n",
      "=========================================\n",
      "making estimator target_2 sentence_scores model predictions\n",
      "=========================================\n",
      "making estimator target_3 tags model predictions\n",
      "=========================================\n",
      "making estimator target_3 gap_tags model predictions\n",
      "=========================================\n",
      "making estimator target_3 sentence_scores model predictions\n",
      "=========================================\n",
      "making estimator target_4 tags model predictions\n",
      "=========================================\n",
      "making estimator target_4 gap_tags model predictions\n",
      "=========================================\n",
      "making estimator target_4 sentence_scores model predictions\n",
      "=========================================\n",
      "making estimator target_1 tags model predictions\n",
      "=========================================\n",
      "making estimator target_1 gap_tags model predictions\n",
      "=========================================\n",
      "making estimator target_1 sentence_scores model predictions\n",
      "=========================================\n",
      "stacking probablities for linear model\n",
      "=========================================\n",
      "=====predicting using linear model\n",
      "Predicting with model linear\n",
      "============================================================\n",
      "Generating dev set predictions...\n",
      "=========================================\n"
     ]
    }
   ],
   "source": [
    "## produce output for ape, nuqe and estimators\n",
    "## use linear model to score stacked output for APE, nuqe and estimators\n",
    "\n",
    "\n",
    "for MODEL_NAME in MODEL_DIR:\n",
    "\n",
    "                \n",
    "    if MODEL_NAME == 'estimator':\n",
    "        RUN_DIR = os.listdir(SCRIPT_DIR+'/'+MODEL_NAME)\n",
    "        for RUN_NAME in RUN_DIR:\n",
    "            if RUN_NAME !='.DS_Store':\n",
    "\n",
    "#                 configfile = SCRIPT_DIR+'/' +MODEL_NAME +'/'+ RUN_NAME+'/predict.yaml'\n",
    "                modelfile = SCRIPT_DIR+'/' +MODEL_NAME +'/'+ RUN_NAME+'/model.torch'\n",
    "                model = kiwi.load_model(modelfile)\n",
    "                modelout = model.predict(examples)\n",
    "                \n",
    "                for tag in list(modelout.keys()):\n",
    "                    \n",
    "                    print('making estimator ' +RUN_NAME+ ' '+ tag + ' model predictions')\n",
    "\n",
    "                    all_sentences_join = concat_tags(    myStrReformat(modelout[tag], tag=tag)  )\n",
    "\n",
    "                    outpath = PREDICTIONS_DIR +'/'+MODEL_NAME+'/'+RUN_NAME + '/dev'\n",
    "                    myfile = outpath+'/'+tag\n",
    "                    \n",
    "\n",
    "                    isExist = os.path.exists(outpath)\n",
    "\n",
    "                    if not isExist:\n",
    "                        # Create a new directory because it does not exist \n",
    "                        os.makedirs(outpath)\n",
    "                    #     print(\"The new directory is created!\")\n",
    "\n",
    "                    Path(myfile).write_text(all_sentences_join)     \n",
    "                    \n",
    "                    if tag == 'sentence_scores':\n",
    "                        sentence_space = read_file(myfile)\n",
    "                        sentence_no_space_to_write = concat_tags(sentence_space, word_gap='', sentence_gap ='\\n')\n",
    "                        myoutput = outpath+'/'+tag+'_nospace'\n",
    "                        Path(myoutput).write_text(sentence_no_space_to_write)\n",
    "\n",
    "                    print('=========================================')\n",
    "                                      \n",
    "                    \n",
    "    if MODEL_NAME == 'linear':\n",
    "        ## stack probability for linear model\n",
    "        \n",
    "        print('stacking probablities for linear model')  \n",
    "        \n",
    "        APE_mt_tags     = PREDICTIONS_BASE + '/ape/mt_pe/dev/tags'\n",
    "        APE_source_tags = PREDICTIONS_BASE + '/ape/src_pe/dev/tags'\n",
    "        target1_tags    = PREDICTIONS_DIR + '/estimator/target_1/dev/tags' \n",
    "        target2_tags    = PREDICTIONS_DIR + '/estimator/target_2/dev/tags' \n",
    "        target3_tags    = PREDICTIONS_DIR + '/estimator/target_3/dev/tags' \n",
    "        target4_tags    = PREDICTIONS_DIR + '/estimator/target_4/dev/tags' \n",
    "        nuqe_tags       = PREDICTIONS_BASE + '/nuqe/target/dev/tags' \n",
    "\n",
    "        predicted_file = [APE_mt_tags, APE_source_tags, target1_tags, target2_tags, target3_tags, target4_tags, nuqe_tags]\n",
    "\n",
    "        probabilities = [read_file(file) for file in predicted_file]\n",
    "\n",
    "        lengths = [len(prob) for prob in probabilities]\n",
    "\n",
    "        stacked_probabilities = concat(probabilities)\n",
    "\n",
    "        outpath = PREDICTIONS_DIR +'/' +MODEL_NAME +'/dev'\n",
    "        myfile = outpath+'/tags.stacked'\n",
    "\n",
    "        isExist = os.path.exists(outpath)\n",
    "\n",
    "        if not isExist:\n",
    "            # Create a new directory because it does not exist \n",
    "            os.makedirs(outpath)\n",
    "        #     print(\"The new directory is created!\")\n",
    "\n",
    "        Path(myfile).write_text(stacked_probabilities)\n",
    "\n",
    "        print('=========================================')   \n",
    "        \n",
    "        print('=====predicting using linear model')  \n",
    "        \n",
    "        myshell = SCRIPT_DIR + '/run_linear.sh'\n",
    "        myshell\n",
    "        subprocess.run([myshell], shell = True)\n",
    "        print('=========================================')   "
   ]
  },
  {
   "cell_type": "markdown",
   "id": "3858fd7f",
   "metadata": {},
   "source": [
    "## Below are all the evaluation results for transfer1 model."
   ]
  },
  {
   "cell_type": "code",
   "execution_count": 88,
   "id": "0db21735",
   "metadata": {},
   "outputs": [
    {
     "data": {
      "application/javascript": [
       "\n",
       "            require(\n",
       "                [\n",
       "                    \"notebook/js/codecell\",\n",
       "                    \"codemirror/mode/yaml/yaml\"\n",
       "                ],\n",
       "                function(cc){\n",
       "                    cc.CodeCell.options_default.highlight_modes.magic_yaml = {\n",
       "                        reg: [\"^%%yaml\"]\n",
       "                    }\n",
       "                }\n",
       "            );\n",
       "            "
      ],
      "text/plain": [
       "<IPython.core.display.Javascript object>"
      ]
     },
     "metadata": {},
     "output_type": "display_data"
    }
   ],
   "source": [
    "%%yaml stackedtag_evaluate_1\n",
    "# ==========  Stacked Linear Model (target tags)  ==========\n",
    "# Example file for configuring the evaluation pipeline\n",
    "#\n",
    "# The input type for prediction files (Probabilities[probs] or tags)\n",
    "# type: tags\n",
    " \n",
    "# The format of gold files (wmt17/wmt18)\n",
    "format: wmt18\n",
    "\n",
    "# Format of predictions (wmt17/wmt18). Either they predict gaps or not.\n",
    "pred-format: wmt17\n",
    "\n",
    "# File path for the reference files\n",
    "gold-target: data/word-level/en_de.nmt/dev.tags\n",
    "\n",
    "# File path for the prediction files\n",
    "pred-target: predictions_transfer1/linear/dev/tags"
   ]
  },
  {
   "cell_type": "code",
   "execution_count": 89,
   "id": "b673b743",
   "metadata": {},
   "outputs": [
    {
     "name": "stdout",
     "output_type": "stream",
     "text": [
      "----------------------------------------------------------------------------\r\n",
      "Word-level scores for tags:\r\n",
      "File                                     F1_mult      F1_OK        F1_BAD   \r\n",
      "predictions_transfer1/linear/dev/tags    0.42483      0.90334      0.47029  \r\n"
     ]
    }
   ],
   "source": [
    "save_config(stackedtag_evaluate_1, 'stackedtag_evaluate_1.yml')\n",
    "!kiwi evaluate --config stackedtag_evaluate_1.yml"
   ]
  },
  {
   "cell_type": "code",
   "execution_count": 90,
   "id": "91545ec7",
   "metadata": {},
   "outputs": [
    {
     "data": {
      "application/javascript": [
       "\n",
       "            require(\n",
       "                [\n",
       "                    \"notebook/js/codecell\",\n",
       "                    \"codemirror/mode/yaml/yaml\"\n",
       "                ],\n",
       "                function(cc){\n",
       "                    cc.CodeCell.options_default.highlight_modes.magic_yaml = {\n",
       "                        reg: [\"^%%yaml\"]\n",
       "                    }\n",
       "                }\n",
       "            );\n",
       "            "
      ],
      "text/plain": [
       "<IPython.core.display.Javascript object>"
      ]
     },
     "metadata": {},
     "output_type": "display_data"
    }
   ],
   "source": [
    "%%yaml targettags_evaluate_1\n",
    "# ==========  Average Ensemble Model (target tags)  ==========\n",
    "# Example file for configuring the evaluation pipeline\n",
    "#\n",
    "# The input type for prediction files (Probabilities[probs] or tags)\n",
    "# type: tags\n",
    " \n",
    "# The format of gold files (wmt17/wmt18)\n",
    "format: wmt18\n",
    "\n",
    "# Format of predictions (wmt17/wmt18). Either they predict gaps or not.\n",
    "pred-format: wmt17\n",
    "\n",
    "# File path for the reference files\n",
    "gold-target: data/word-level/en_de.nmt/dev.tags\n",
    "\n",
    "# File path for the prediction files\n",
    "pred-target: [predictions_transfer1/estimator/target_1/dev/tags,\n",
    "              predictions_transfer1/estimator/target_2/dev/tags,\n",
    "              predictions_transfer1/estimator/target_3/dev/tags,\n",
    "              predictions_transfer1/estimator/target_4/dev/tags,\n",
    "              predictions_baseline/ape/src_pe/dev/tags,\n",
    "              predictions_baseline/ape/mt_pe/dev/tags,\n",
    "              predictions_baseline/nuqe/target/dev/tags]"
   ]
  },
  {
   "cell_type": "code",
   "execution_count": 91,
   "id": "54a16764",
   "metadata": {},
   "outputs": [
    {
     "name": "stdout",
     "output_type": "stream",
     "text": [
      "----------------------------------------------------------------------------------------\r\n",
      "Word-level scores for tags:\r\n",
      "File                                                 F1_mult      F1_OK        F1_BAD   \r\n",
      "*ensemble*                                           0.43472      0.92355      0.47071  \r\n",
      "predictions_baseline/ape/src_pe/dev/tags             0.37535      0.87182      0.43054  \r\n",
      "predictions_transfer1/estimator/target_1/dev/tags    0.37388      0.89471      0.41787  \r\n",
      "predictions_transfer1/estimator/target_4/dev/tags    0.36550      0.88431      0.41332  \r\n",
      "predictions_transfer1/estimator/target_2/dev/tags    0.36233      0.89648      0.40417  \r\n",
      "predictions_transfer1/estimator/target_3/dev/tags    0.33581      0.85707      0.39182  \r\n",
      "predictions_baseline/nuqe/target/dev/tags            0.31824      0.90716      0.35080  \r\n",
      "predictions_baseline/ape/mt_pe/dev/tags              0.10961      0.93035      0.11782  \r\n"
     ]
    }
   ],
   "source": [
    "save_config(targettags_evaluate_1, 'targettags_evaluate_1.yml')\n",
    "!kiwi evaluate --config targettags_evaluate_1.yml"
   ]
  },
  {
   "cell_type": "code",
   "execution_count": 92,
   "id": "da5b0427",
   "metadata": {},
   "outputs": [
    {
     "data": {
      "application/javascript": [
       "\n",
       "            require(\n",
       "                [\n",
       "                    \"notebook/js/codecell\",\n",
       "                    \"codemirror/mode/yaml/yaml\"\n",
       "                ],\n",
       "                function(cc){\n",
       "                    cc.CodeCell.options_default.highlight_modes.magic_yaml = {\n",
       "                        reg: [\"^%%yaml\"]\n",
       "                    }\n",
       "                }\n",
       "            );\n",
       "            "
      ],
      "text/plain": [
       "<IPython.core.display.Javascript object>"
      ]
     },
     "metadata": {},
     "output_type": "display_data"
    }
   ],
   "source": [
    "%%yaml gaptags_evaluate_1\n",
    "# ==========  Average Ensemble Model (gap tags)  ==========\n",
    "# Example file for configuring the evaluation pipeline\n",
    "#\n",
    "# The input type for prediction files (Probabilities[probs] or tags)\n",
    "# type: tags\n",
    " \n",
    "# The format of gold files (wmt17/wmt18)\n",
    "format: wmt18\n",
    "\n",
    "# Format of predictions (wmt17/wmt18). Either they predict gaps or not.\n",
    "pred-format: wmt17\n",
    "\n",
    "# File path for the reference files\n",
    "gold-target: data/word-level/en_de.nmt/dev.tags\n",
    "\n",
    "# File path for the prediction files\n",
    "pred-gaps: [predictions_transfer1/estimator/target_1/dev/gap_tags,\n",
    "              predictions_transfer1/estimator/target_2/dev/gap_tags,\n",
    "              predictions_transfer1/estimator/target_3/dev/gap_tags,\n",
    "              predictions_transfer1/estimator/target_4/dev/gap_tags,\n",
    "              predictions_baseline/ape/src_pe/dev/gap_tags,\n",
    "              predictions_baseline/ape/mt_pe/dev/gap_tags,\n",
    "              predictions_baseline/nuqe/gaps/dev/gap_tags]"
   ]
  },
  {
   "cell_type": "code",
   "execution_count": 93,
   "id": "94f5ee1c",
   "metadata": {},
   "outputs": [
    {
     "name": "stdout",
     "output_type": "stream",
     "text": [
      "--------------------------------------------------------------------------------------------\r\n",
      "Word-level scores for gap_tags:\r\n",
      "File                                                     F1_mult      F1_OK        F1_BAD   \r\n",
      "*ensemble*                                               0.21880      0.986        0.22191  \r\n",
      "predictions_baseline/ape/src_pe/dev/gap_tags             0.21709      0.97691      0.22222  \r\n",
      "predictions_baseline/ape/mt_pe/dev/gap_tags              0.18978      0.98749      0.19218  \r\n",
      "predictions_transfer1/estimator/target_4/dev/gap_tags    0.17476      0.96675      0.18078  \r\n",
      "predictions_transfer1/estimator/target_1/dev/gap_tags    0.16961      0.97037      0.17479  \r\n",
      "predictions_baseline/nuqe/gaps/dev/gap_tags              0.16613      0.98256      0.16908  \r\n",
      "predictions_transfer1/estimator/target_3/dev/gap_tags    0.15792      0.96009      0.16449  \r\n",
      "predictions_transfer1/estimator/target_2/dev/gap_tags    0.13772      0.96027      0.14342  \r\n"
     ]
    }
   ],
   "source": [
    "save_config(gaptags_evaluate_1, 'gaptags_evaluate_1.yml')\n",
    "!kiwi evaluate --config gaptags_evaluate_1.yml "
   ]
  },
  {
   "cell_type": "code",
   "execution_count": 94,
   "id": "6435b7d1",
   "metadata": {},
   "outputs": [
    {
     "data": {
      "application/javascript": [
       "\n",
       "            require(\n",
       "                [\n",
       "                    \"notebook/js/codecell\",\n",
       "                    \"codemirror/mode/yaml/yaml\"\n",
       "                ],\n",
       "                function(cc){\n",
       "                    cc.CodeCell.options_default.highlight_modes.magic_yaml = {\n",
       "                        reg: [\"^%%yaml\"]\n",
       "                    }\n",
       "                }\n",
       "            );\n",
       "            "
      ],
      "text/plain": [
       "<IPython.core.display.Javascript object>"
      ]
     },
     "metadata": {},
     "output_type": "display_data"
    }
   ],
   "source": [
    "%%yaml sentencescores_evaluate_1\n",
    "# ==========  Average Ensemble Model (sentence scores)  ==========\n",
    "# Example file for configuring the evaluation pipeline\n",
    "#\n",
    "# The input type for prediction files (Probabilities[probs] or tags)\n",
    "# type: tags\n",
    " \n",
    "# The format of gold files (wmt17/wmt18)\n",
    "format: wmt18\n",
    "\n",
    "# Format of predictions (wmt17/wmt18). Either they predict gaps or not.\n",
    "pred-format: wmt17\n",
    "\n",
    "# File path for the reference files\n",
    "gold-sents: data/sentence_level/en_de/dev.nmt.hter\n",
    "\n",
    "# File path for the prediction files\n",
    "pred-sents: [predictions_transfer1/estimator/target_1/dev/sentence_scores_nospace,\n",
    "              predictions_transfer1/estimator/target_2/dev/sentence_scores_nospace,\n",
    "              predictions_transfer1/estimator/target_3/dev/sentence_scores_nospace,\n",
    "              predictions_transfer1/estimator/target_4/dev/sentence_scores_nospace]"
   ]
  },
  {
   "cell_type": "code",
   "execution_count": 95,
   "id": "80a49771",
   "metadata": {
    "scrolled": true
   },
   "outputs": [
    {
     "name": "stdout",
     "output_type": "stream",
     "text": [
      "-----------------------------------------------------------------------------\n",
      "Sentence-level scoring:\n",
      "File (predictions_transfer1/estimator)    Pearson r    MAE          RMSE     \n",
      "*ensemble*                                0.50296      0.13766      0.17886  \n",
      "target_1/dev/sentence_scores_nospace      0.47432      0.12782      0.17843  \n",
      "target_4/dev/sentence_scores_nospace      0.47317      0.12826      0.17359  \n",
      "target_2/dev/sentence_scores_nospace      0.46344      0.14811      0.19245  \n",
      "target_3/dev/sentence_scores_nospace      0.45695      0.16438      0.20597  \n",
      "-----------------------------------------------------------------------------\n",
      "Sentence-level ranking:\n",
      "File (predictions_transfer1/estimator)    Spearman r    DeltaAvg \n",
      "*ensemble*                                0.54707       0.08267  \n",
      "target_3/dev/sentence_scores_nospace      0.51913       0.08107  \n",
      "target_1/dev/sentence_scores_nospace      0.51788       0.07898  \n",
      "target_4/dev/sentence_scores_nospace      0.51657       0.07919  \n",
      "target_2/dev/sentence_scores_nospace      0.51646       0.07878  \n"
     ]
    }
   ],
   "source": [
    "save_config(sentencescores_evaluate_1, 'sentencescores_evaluate_1.yml')\n",
    "!kiwi evaluate --config sentencescores_evaluate_1.yml "
   ]
  },
  {
   "cell_type": "markdown",
   "id": "3d005a8d",
   "metadata": {},
   "source": [
    "## Transfer learning 2: common words"
   ]
  },
  {
   "cell_type": "code",
   "execution_count": 98,
   "id": "e4d934e9",
   "metadata": {},
   "outputs": [],
   "source": [
    "# directory\n",
    "KIWI         = os.getcwd()\n",
    "# KIWI = KIWI + '/transfer2'\n",
    "# which_target = '/target_1'\n",
    "# which_output = '/tags'\n",
    "\n",
    "SCRIPT_DIR = KIWI + '/transfer2'\n",
    "# LINEAR_DIR=  SCRIPT_DIR + '/linear'\n",
    "\n",
    "# RUN_DIR     = SCRIPT_DIR + '/estimator'\n",
    "WORD_DIR   = KIWI + '/data/word-level/en_de.nmt'\n",
    "SENT_DIR    = KIWI + '/data/sentence_level/en_de'\n",
    "\n",
    "PREDICTIONS_DIR = 'predictions_transfer2'\n",
    "PREDICTIONS_BASE = 'predictions_baseline'\n",
    "\n",
    "MODEL_DIR = os.listdir(SCRIPT_DIR)\n",
    "\n",
    "MODEL_DIR.remove('linear')\n",
    "MODEL_DIR.append('linear')"
   ]
  },
  {
   "cell_type": "code",
   "execution_count": 99,
   "id": "05e96e00",
   "metadata": {},
   "outputs": [
    {
     "name": "stdout",
     "output_type": "stream",
     "text": [
      "making estimator target_2 tags model predictions\n",
      "=========================================\n",
      "making estimator target_2 gap_tags model predictions\n",
      "=========================================\n",
      "making estimator target_2 sentence_scores model predictions\n",
      "=========================================\n",
      "making estimator target_3 tags model predictions\n",
      "=========================================\n",
      "making estimator target_3 gap_tags model predictions\n",
      "=========================================\n",
      "making estimator target_3 sentence_scores model predictions\n",
      "=========================================\n",
      "making estimator target_4 tags model predictions\n",
      "=========================================\n",
      "making estimator target_4 gap_tags model predictions\n",
      "=========================================\n",
      "making estimator target_4 sentence_scores model predictions\n",
      "=========================================\n",
      "making estimator target_1 tags model predictions\n",
      "=========================================\n",
      "making estimator target_1 gap_tags model predictions\n",
      "=========================================\n",
      "making estimator target_1 sentence_scores model predictions\n",
      "=========================================\n",
      "stacking probablities for linear model\n",
      "=========================================\n",
      "=====predicting using linear model\n",
      "Predicting with model linear\n",
      "============================================================\n",
      "Generating dev set predictions...\n",
      "=========================================\n"
     ]
    }
   ],
   "source": [
    "## produce output for ape, nuqe and estimators\n",
    "## use linear model to score stacked output for APE, nuqe and estimators\n",
    "\n",
    "\n",
    "for MODEL_NAME in MODEL_DIR:\n",
    "                \n",
    "    if MODEL_NAME == 'estimator':\n",
    "        RUN_DIR = os.listdir(SCRIPT_DIR+'/'+MODEL_NAME)\n",
    "        for RUN_NAME in RUN_DIR:\n",
    "            if RUN_NAME !='.DS_Store':\n",
    "\n",
    "#                 configfile = SCRIPT_DIR+'/' +MODEL_NAME +'/'+ RUN_NAME+'/predict.yaml'\n",
    "                modelfile = SCRIPT_DIR+'/' +MODEL_NAME +'/'+ RUN_NAME+'/model.torch'\n",
    "                model = kiwi.load_model(modelfile)\n",
    "                modelout = model.predict(examples)\n",
    "                \n",
    "                for tag in list(modelout.keys()):\n",
    "                    \n",
    "                    print('making estimator ' +RUN_NAME+ ' '+ tag + ' model predictions')\n",
    "\n",
    "                    all_sentences_join = concat_tags(    myStrReformat(modelout[tag], tag=tag)  )\n",
    "\n",
    "                    outpath = PREDICTIONS_DIR +'/'+MODEL_NAME+'/'+RUN_NAME + '/dev'\n",
    "                    myfile = outpath+'/'+tag\n",
    "                    \n",
    "\n",
    "                    isExist = os.path.exists(outpath)\n",
    "\n",
    "                    if not isExist:\n",
    "                        # Create a new directory because it does not exist \n",
    "                        os.makedirs(outpath)\n",
    "                    #     print(\"The new directory is created!\")\n",
    "\n",
    "                    Path(myfile).write_text(all_sentences_join)     \n",
    "                    \n",
    "                    if tag == 'sentence_scores':\n",
    "                        sentence_space = read_file(myfile)\n",
    "                        sentence_no_space_to_write = concat_tags(sentence_space, word_gap='', sentence_gap ='\\n')\n",
    "                        myoutput = outpath+'/'+tag+'_nospace'\n",
    "                        Path(myoutput).write_text(sentence_no_space_to_write)\n",
    "\n",
    "                    print('=========================================')\n",
    "                    \n",
    "                    \n",
    "    if MODEL_NAME == 'linear':\n",
    "        ## stack probability for linear model\n",
    "        \n",
    "        print('stacking probablities for linear model')  \n",
    "        \n",
    "        APE_mt_tags     = PREDICTIONS_BASE + '/ape/mt_pe/dev/tags'\n",
    "        APE_source_tags = PREDICTIONS_BASE + '/ape/src_pe/dev/tags'\n",
    "        target1_tags    = PREDICTIONS_DIR + '/estimator/target_1/dev/tags' \n",
    "        target2_tags    = PREDICTIONS_DIR + '/estimator/target_2/dev/tags' \n",
    "        target3_tags    = PREDICTIONS_DIR + '/estimator/target_3/dev/tags' \n",
    "        target4_tags    = PREDICTIONS_DIR + '/estimator/target_4/dev/tags' \n",
    "        nuqe_tags       = PREDICTIONS_BASE + '/nuqe/target/dev/tags' \n",
    "\n",
    "        predicted_file = [APE_mt_tags, APE_source_tags, target1_tags, target2_tags, target3_tags, target4_tags, nuqe_tags]\n",
    "\n",
    "        probabilities = [read_file(file) for file in predicted_file]\n",
    "\n",
    "        lengths = [len(prob) for prob in probabilities]\n",
    "\n",
    "        stacked_probabilities = concat(probabilities)\n",
    "\n",
    "        outpath = PREDICTIONS_DIR +'/' +MODEL_NAME +'/dev'\n",
    "        myfile = outpath+'/tags.stacked'\n",
    "\n",
    "        isExist = os.path.exists(outpath)\n",
    "\n",
    "        if not isExist:\n",
    "            # Create a new directory because it does not exist \n",
    "            os.makedirs(outpath)\n",
    "        #     print(\"The new directory is created!\")\n",
    "\n",
    "        Path(myfile).write_text(stacked_probabilities)\n",
    "\n",
    "        print('=========================================')   \n",
    "        \n",
    "        print('=====predicting using linear model')  \n",
    "        \n",
    "        myshell = SCRIPT_DIR + '/run_linear.sh'\n",
    "        myshell\n",
    "        subprocess.run([myshell], shell = True)\n",
    "        print('=========================================')   \n",
    "                    "
   ]
  },
  {
   "cell_type": "markdown",
   "id": "59bfa894",
   "metadata": {},
   "source": [
    "## Below are all the evaluation results for transfer 2 model."
   ]
  },
  {
   "cell_type": "code",
   "execution_count": 100,
   "id": "c19788f1",
   "metadata": {},
   "outputs": [
    {
     "data": {
      "application/javascript": [
       "\n",
       "            require(\n",
       "                [\n",
       "                    \"notebook/js/codecell\",\n",
       "                    \"codemirror/mode/yaml/yaml\"\n",
       "                ],\n",
       "                function(cc){\n",
       "                    cc.CodeCell.options_default.highlight_modes.magic_yaml = {\n",
       "                        reg: [\"^%%yaml\"]\n",
       "                    }\n",
       "                }\n",
       "            );\n",
       "            "
      ],
      "text/plain": [
       "<IPython.core.display.Javascript object>"
      ]
     },
     "metadata": {},
     "output_type": "display_data"
    }
   ],
   "source": [
    "%%yaml stackedtag_evaluate_2\n",
    "# ==========  Stacked Linear Model (target tags)  ==========\n",
    "# Example file for configuring the evaluation pipeline\n",
    "#\n",
    "# The input type for prediction files (Probabilities[probs] or tags)\n",
    "# type: tags\n",
    " \n",
    "# The format of gold files (wmt17/wmt18)\n",
    "format: wmt18\n",
    "\n",
    "# Format of predictions (wmt17/wmt18). Either they predict gaps or not.\n",
    "pred-format: wmt17\n",
    "\n",
    "# File path for the reference files\n",
    "gold-target: data/word-level/en_de.nmt/dev.tags\n",
    "\n",
    "# File path for the prediction files\n",
    "pred-target: predictions_transfer2/linear/dev/tags"
   ]
  },
  {
   "cell_type": "code",
   "execution_count": 101,
   "id": "b95ccc20",
   "metadata": {
    "scrolled": true
   },
   "outputs": [
    {
     "name": "stdout",
     "output_type": "stream",
     "text": [
      "----------------------------------------------------------------------------\r\n",
      "Word-level scores for tags:\r\n",
      "File                                     F1_mult      F1_OK        F1_BAD   \r\n",
      "predictions_transfer2/linear/dev/tags    0.43780      0.9167       0.47758  \r\n"
     ]
    }
   ],
   "source": [
    "save_config(stackedtag_evaluate_2, 'stackedtag_evaluate_2.yml')\n",
    "!kiwi evaluate --config stackedtag_evaluate_2.yml"
   ]
  },
  {
   "cell_type": "code",
   "execution_count": 102,
   "id": "3952ae35",
   "metadata": {},
   "outputs": [
    {
     "data": {
      "application/javascript": [
       "\n",
       "            require(\n",
       "                [\n",
       "                    \"notebook/js/codecell\",\n",
       "                    \"codemirror/mode/yaml/yaml\"\n",
       "                ],\n",
       "                function(cc){\n",
       "                    cc.CodeCell.options_default.highlight_modes.magic_yaml = {\n",
       "                        reg: [\"^%%yaml\"]\n",
       "                    }\n",
       "                }\n",
       "            );\n",
       "            "
      ],
      "text/plain": [
       "<IPython.core.display.Javascript object>"
      ]
     },
     "metadata": {},
     "output_type": "display_data"
    }
   ],
   "source": [
    "%%yaml targettags_evaluate_2\n",
    "# ==========  Average Ensemble Model (target tags)  ==========\n",
    "# Example file for configuring the evaluation pipeline\n",
    "#\n",
    "# The input type for prediction files (Probabilities[probs] or tags)\n",
    "# type: tags\n",
    " \n",
    "# The format of gold files (wmt17/wmt18)\n",
    "format: wmt18\n",
    "\n",
    "# Format of predictions (wmt17/wmt18). Either they predict gaps or not.\n",
    "pred-format: wmt17\n",
    "\n",
    "# File path for the reference files\n",
    "gold-target: data/word-level/en_de.nmt/dev.tags\n",
    "\n",
    "# File path for the prediction files\n",
    "pred-target: [predictions_transfer2/estimator/target_1/dev/tags,\n",
    "              predictions_transfer2/estimator/target_2/dev/tags,\n",
    "              predictions_transfer2/estimator/target_3/dev/tags,\n",
    "              predictions_transfer2/estimator/target_4/dev/tags,\n",
    "              predictions_baseline/ape/src_pe/dev/tags,\n",
    "              predictions_baseline/ape/mt_pe/dev/tags,\n",
    "              predictions_baseline/nuqe/target/dev/tags]"
   ]
  },
  {
   "cell_type": "code",
   "execution_count": 103,
   "id": "44cf4ad4",
   "metadata": {
    "scrolled": false
   },
   "outputs": [
    {
     "name": "stdout",
     "output_type": "stream",
     "text": [
      "----------------------------------------------------------------------------------------\r\n",
      "Word-level scores for tags:\r\n",
      "File                                                 F1_mult      F1_OK        F1_BAD   \r\n",
      "*ensemble*                                           0.42335      0.92813      0.45613  \r\n",
      "predictions_transfer2/estimator/target_1/dev/tags    0.38250      0.90322      0.42348  \r\n",
      "predictions_transfer2/estimator/target_4/dev/tags    0.37735      0.89539      0.42143  \r\n",
      "predictions_baseline/ape/src_pe/dev/tags             0.37535      0.87182      0.43054  \r\n",
      "predictions_transfer2/estimator/target_2/dev/tags    0.37347      0.91874      0.40651  \r\n",
      "predictions_transfer2/estimator/target_3/dev/tags    0.36672      0.89434      0.41004  \r\n",
      "predictions_baseline/nuqe/target/dev/tags            0.31824      0.90716      0.35080  \r\n",
      "predictions_baseline/ape/mt_pe/dev/tags              0.10961      0.93035      0.11782  \r\n"
     ]
    }
   ],
   "source": [
    "save_config(targettags_evaluate_2, 'targettags_evaluate_2.yml')\n",
    "!kiwi evaluate --config targettags_evaluate_2.yml"
   ]
  },
  {
   "cell_type": "code",
   "execution_count": 104,
   "id": "d344c384",
   "metadata": {},
   "outputs": [
    {
     "data": {
      "application/javascript": [
       "\n",
       "            require(\n",
       "                [\n",
       "                    \"notebook/js/codecell\",\n",
       "                    \"codemirror/mode/yaml/yaml\"\n",
       "                ],\n",
       "                function(cc){\n",
       "                    cc.CodeCell.options_default.highlight_modes.magic_yaml = {\n",
       "                        reg: [\"^%%yaml\"]\n",
       "                    }\n",
       "                }\n",
       "            );\n",
       "            "
      ],
      "text/plain": [
       "<IPython.core.display.Javascript object>"
      ]
     },
     "metadata": {},
     "output_type": "display_data"
    }
   ],
   "source": [
    "%%yaml gaptags_evaluate_2\n",
    "# ==========  Average Ensemble Model (gap tags)  ==========\n",
    "# Example file for configuring the evaluation pipeline\n",
    "#\n",
    "# The input type for prediction files (Probabilities[probs] or tags)\n",
    "# type: tags\n",
    " \n",
    "# The format of gold files (wmt17/wmt18)\n",
    "format: wmt18\n",
    "\n",
    "# Format of predictions (wmt17/wmt18). Either they predict gaps or not.\n",
    "pred-format: wmt17\n",
    "\n",
    "# File path for the reference files\n",
    "gold-target: data/word-level/en_de.nmt/dev.tags\n",
    "\n",
    "# File path for the prediction files\n",
    "pred-gaps: [predictions_transfer2/estimator/target_1/dev/gap_tags,\n",
    "              predictions_transfer2/estimator/target_2/dev/gap_tags,\n",
    "              predictions_transfer2/estimator/target_3/dev/gap_tags,\n",
    "              predictions_transfer2/estimator/target_4/dev/gap_tags,\n",
    "              predictions_baseline/ape/src_pe/dev/gap_tags,\n",
    "              predictions_baseline/ape/mt_pe/dev/gap_tags,\n",
    "              predictions_baseline/nuqe/gaps/dev/gap_tags]"
   ]
  },
  {
   "cell_type": "code",
   "execution_count": 105,
   "id": "3b6d4b4c",
   "metadata": {
    "scrolled": false
   },
   "outputs": [
    {
     "name": "stdout",
     "output_type": "stream",
     "text": [
      "--------------------------------------------------------------------------------------------\r\n",
      "Word-level scores for gap_tags:\r\n",
      "File                                                     F1_mult      F1_OK        F1_BAD   \r\n",
      "*ensemble*                                               0.24508      0.98838      0.24796  \r\n",
      "predictions_baseline/ape/src_pe/dev/gap_tags             0.21709      0.97691      0.22222  \r\n",
      "predictions_baseline/ape/mt_pe/dev/gap_tags              0.18978      0.98749      0.19218  \r\n",
      "predictions_transfer2/estimator/target_2/dev/gap_tags    0.18098      0.98068      0.18455  \r\n",
      "predictions_transfer2/estimator/target_4/dev/gap_tags    0.17802      0.97022      0.18349  \r\n",
      "predictions_transfer2/estimator/target_1/dev/gap_tags    0.17711      0.97671      0.18133  \r\n",
      "predictions_transfer2/estimator/target_3/dev/gap_tags    0.17636      0.9759       0.18071  \r\n",
      "predictions_baseline/nuqe/gaps/dev/gap_tags              0.16613      0.98256      0.16908  \r\n"
     ]
    }
   ],
   "source": [
    "save_config(gaptags_evaluate_2, 'gaptags_evaluate_2.yml')\n",
    "!kiwi evaluate --config gaptags_evaluate_2.yml "
   ]
  },
  {
   "cell_type": "code",
   "execution_count": 106,
   "id": "8277894e",
   "metadata": {},
   "outputs": [
    {
     "data": {
      "application/javascript": [
       "\n",
       "            require(\n",
       "                [\n",
       "                    \"notebook/js/codecell\",\n",
       "                    \"codemirror/mode/yaml/yaml\"\n",
       "                ],\n",
       "                function(cc){\n",
       "                    cc.CodeCell.options_default.highlight_modes.magic_yaml = {\n",
       "                        reg: [\"^%%yaml\"]\n",
       "                    }\n",
       "                }\n",
       "            );\n",
       "            "
      ],
      "text/plain": [
       "<IPython.core.display.Javascript object>"
      ]
     },
     "metadata": {},
     "output_type": "display_data"
    }
   ],
   "source": [
    "%%yaml sentencescores_evaluate_2\n",
    "# ==========  Average Ensemble Model (sentence scores)  ==========\n",
    "# Example file for configuring the evaluation pipeline\n",
    "#\n",
    "# The input type for prediction files (Probabilities[probs] or tags)\n",
    "# type: tags\n",
    " \n",
    "# The format of gold files (wmt17/wmt18)\n",
    "format: wmt18\n",
    "\n",
    "# Format of predictions (wmt17/wmt18). Either they predict gaps or not.\n",
    "pred-format: wmt17\n",
    "\n",
    "# File path for the reference files\n",
    "gold-sents: data/sentence_level/en_de/dev.nmt.hter\n",
    "\n",
    "# File path for the prediction files\n",
    "pred-sents: [predictions_transfer2/estimator/target_1/dev/sentence_scores_nospace,\n",
    "              predictions_transfer2/estimator/target_2/dev/sentence_scores_nospace,\n",
    "              predictions_transfer2/estimator/target_3/dev/sentence_scores_nospace,\n",
    "              predictions_transfer2/estimator/target_4/dev/sentence_scores_nospace]"
   ]
  },
  {
   "cell_type": "code",
   "execution_count": 107,
   "id": "ca6b401a",
   "metadata": {
    "scrolled": true
   },
   "outputs": [
    {
     "name": "stdout",
     "output_type": "stream",
     "text": [
      "-----------------------------------------------------------------------------\n",
      "Sentence-level scoring:\n",
      "File (predictions_transfer2/estimator)    Pearson r    MAE          RMSE     \n",
      "*ensemble*                                0.52278      0.10593      0.16235  \n",
      "target_1/dev/sentence_scores_nospace      0.50445      0.11024      0.16505  \n",
      "target_4/dev/sentence_scores_nospace      0.48922      0.11831      0.16874  \n",
      "target_2/dev/sentence_scores_nospace      0.47634      0.10695      0.17234  \n",
      "target_3/dev/sentence_scores_nospace      0.46578      0.10996      0.17062  \n",
      "-----------------------------------------------------------------------------\n",
      "Sentence-level ranking:\n",
      "File (predictions_transfer2/estimator)    Spearman r    DeltaAvg \n",
      "*ensemble*                                0.56673       0.08207  \n",
      "target_2/dev/sentence_scores_nospace      0.54344       0.07984  \n",
      "target_4/dev/sentence_scores_nospace      0.54297       0.07934  \n",
      "target_1/dev/sentence_scores_nospace      0.53576       0.07847  \n",
      "target_3/dev/sentence_scores_nospace      0.52440       0.07864  \n"
     ]
    }
   ],
   "source": [
    "save_config(sentencescores_evaluate_2, 'sentencescores_evaluate_2.yml')\n",
    "!kiwi evaluate --config sentencescores_evaluate_2.yml "
   ]
  },
  {
   "cell_type": "markdown",
   "id": "41fc6213",
   "metadata": {},
   "source": [
    "## Transfer learning 3: small sample based on euclidean distance"
   ]
  },
  {
   "cell_type": "code",
   "execution_count": 108,
   "id": "eaa4e4ff",
   "metadata": {},
   "outputs": [],
   "source": [
    "# directory\n",
    "KIWI         = os.getcwd()\n",
    "# KIWI = KIWI + '/transfer2'\n",
    "# which_target = '/target_1'\n",
    "# which_output = '/tags'\n",
    "\n",
    "SCRIPT_DIR = KIWI + '/transfer3'\n",
    "# LINEAR_DIR=  SCRIPT_DIR + '/linear'\n",
    "\n",
    "# RUN_DIR     = SCRIPT_DIR + '/estimator'\n",
    "WORD_DIR   = KIWI + '/data/word-level/en_de.nmt'\n",
    "SENT_DIR    = KIWI + '/data/sentence_level/en_de'\n",
    "\n",
    "PREDICTIONS_DIR = 'predictions_transfer3'\n",
    "PREDICTIONS_BASE = 'predictions_baseline'\n",
    "\n",
    "MODEL_DIR = os.listdir(SCRIPT_DIR)\n",
    "\n",
    "MODEL_DIR.remove('linear')\n",
    "MODEL_DIR.append('linear')"
   ]
  },
  {
   "cell_type": "code",
   "execution_count": 109,
   "id": "dccd1fb7",
   "metadata": {},
   "outputs": [
    {
     "name": "stdout",
     "output_type": "stream",
     "text": [
      "making estimator target_2 tags model predictions\n",
      "=========================================\n",
      "making estimator target_2 gap_tags model predictions\n",
      "=========================================\n",
      "making estimator target_2 sentence_scores model predictions\n",
      "=========================================\n",
      "making estimator target_3 tags model predictions\n",
      "=========================================\n",
      "making estimator target_3 gap_tags model predictions\n",
      "=========================================\n",
      "making estimator target_3 sentence_scores model predictions\n",
      "=========================================\n",
      "making estimator target_4 tags model predictions\n",
      "=========================================\n",
      "making estimator target_4 gap_tags model predictions\n",
      "=========================================\n",
      "making estimator target_4 sentence_scores model predictions\n",
      "=========================================\n",
      "making estimator target_1 tags model predictions\n",
      "=========================================\n",
      "making estimator target_1 gap_tags model predictions\n",
      "=========================================\n",
      "making estimator target_1 sentence_scores model predictions\n",
      "=========================================\n",
      "stacking probablities for linear model\n",
      "=========================================\n",
      "=====predicting using linear model\n",
      "Predicting with model linear\n",
      "============================================================\n",
      "Generating dev set predictions...\n",
      "=========================================\n"
     ]
    }
   ],
   "source": [
    "## produce output for ape, nuqe and estimators\n",
    "## use linear model to score stacked output for APE, nuqe and estimators\n",
    "\n",
    "\n",
    "for MODEL_NAME in MODEL_DIR:\n",
    "                \n",
    "    if MODEL_NAME == 'estimator':\n",
    "        RUN_DIR = os.listdir(SCRIPT_DIR+'/'+MODEL_NAME)\n",
    "        for RUN_NAME in RUN_DIR:\n",
    "            if RUN_NAME !='.DS_Store':\n",
    "\n",
    "#                 configfile = SCRIPT_DIR+'/' +MODEL_NAME +'/'+ RUN_NAME+'/predict.yaml'\n",
    "                modelfile = SCRIPT_DIR+'/' +MODEL_NAME +'/'+ RUN_NAME+'/model.torch'\n",
    "                model = kiwi.load_model(modelfile)\n",
    "                modelout = model.predict(examples)\n",
    "                \n",
    "                for tag in list(modelout.keys()):\n",
    "                    \n",
    "                    print('making estimator ' +RUN_NAME+ ' '+ tag + ' model predictions')\n",
    "\n",
    "                    all_sentences_join = concat_tags(    myStrReformat(modelout[tag], tag=tag)  )\n",
    "\n",
    "                    outpath = PREDICTIONS_DIR +'/'+MODEL_NAME+'/'+RUN_NAME + '/dev'\n",
    "                    myfile = outpath+'/'+tag\n",
    "                    \n",
    "\n",
    "                    isExist = os.path.exists(outpath)\n",
    "\n",
    "                    if not isExist:\n",
    "                        # Create a new directory because it does not exist \n",
    "                        os.makedirs(outpath)\n",
    "                    #     print(\"The new directory is created!\")\n",
    "\n",
    "                    Path(myfile).write_text(all_sentences_join)     \n",
    "                    \n",
    "                    if tag == 'sentence_scores':\n",
    "                        sentence_space = read_file(myfile)\n",
    "                        sentence_no_space_to_write = concat_tags(sentence_space, word_gap='', sentence_gap ='\\n')\n",
    "                        myoutput = outpath+'/'+tag+'_nospace'\n",
    "                        Path(myoutput).write_text(sentence_no_space_to_write)\n",
    "\n",
    "                    print('=========================================')\n",
    "                                        \n",
    "                    \n",
    "    if MODEL_NAME == 'linear':\n",
    "        ## stack probability for linear model\n",
    "        \n",
    "        print('stacking probablities for linear model')  \n",
    "        \n",
    "        APE_mt_tags     = PREDICTIONS_BASE + '/ape/mt_pe/dev/tags'\n",
    "        APE_source_tags = PREDICTIONS_BASE + '/ape/src_pe/dev/tags'\n",
    "        target1_tags    = PREDICTIONS_DIR + '/estimator/target_1/dev/tags' \n",
    "        target2_tags    = PREDICTIONS_DIR + '/estimator/target_2/dev/tags' \n",
    "        target3_tags    = PREDICTIONS_DIR + '/estimator/target_3/dev/tags' \n",
    "        target4_tags    = PREDICTIONS_DIR + '/estimator/target_4/dev/tags' \n",
    "        nuqe_tags       = PREDICTIONS_BASE + '/nuqe/target/dev/tags' \n",
    "\n",
    "        predicted_file = [APE_mt_tags, APE_source_tags, target1_tags, target2_tags, target3_tags, target4_tags, nuqe_tags]\n",
    "\n",
    "        probabilities = [read_file(file) for file in predicted_file]\n",
    "\n",
    "        lengths = [len(prob) for prob in probabilities]\n",
    "\n",
    "        stacked_probabilities = concat(probabilities)\n",
    "\n",
    "        outpath = PREDICTIONS_DIR +'/' +MODEL_NAME +'/dev'\n",
    "        myfile = outpath+'/tags.stacked'\n",
    "\n",
    "        isExist = os.path.exists(outpath)\n",
    "\n",
    "        if not isExist:\n",
    "            # Create a new directory because it does not exist \n",
    "            os.makedirs(outpath)\n",
    "        #     print(\"The new directory is created!\")\n",
    "\n",
    "        Path(myfile).write_text(stacked_probabilities)\n",
    "\n",
    "        print('=========================================')   \n",
    "        \n",
    "        print('=====predicting using linear model')  \n",
    "        \n",
    "        myshell = SCRIPT_DIR + '/run_linear.sh'\n",
    "        myshell\n",
    "        subprocess.run([myshell], shell = True)\n",
    "        print('=========================================')   \n",
    "                    "
   ]
  },
  {
   "cell_type": "markdown",
   "id": "43b319ae",
   "metadata": {},
   "source": [
    "## Below are all the evaluation results for transfer 4 model."
   ]
  },
  {
   "cell_type": "code",
   "execution_count": 110,
   "id": "aa9f3c4f",
   "metadata": {},
   "outputs": [
    {
     "data": {
      "application/javascript": [
       "\n",
       "            require(\n",
       "                [\n",
       "                    \"notebook/js/codecell\",\n",
       "                    \"codemirror/mode/yaml/yaml\"\n",
       "                ],\n",
       "                function(cc){\n",
       "                    cc.CodeCell.options_default.highlight_modes.magic_yaml = {\n",
       "                        reg: [\"^%%yaml\"]\n",
       "                    }\n",
       "                }\n",
       "            );\n",
       "            "
      ],
      "text/plain": [
       "<IPython.core.display.Javascript object>"
      ]
     },
     "metadata": {},
     "output_type": "display_data"
    }
   ],
   "source": [
    "%%yaml stackedtag_evaluate_3\n",
    "# ==========  Stacked Linear Model (target tags)  ==========\n",
    "# Example file for configuring the evaluation pipeline\n",
    "#\n",
    "# The input type for prediction files (Probabilities[probs] or tags)\n",
    "# type: tags\n",
    " \n",
    "# The format of gold files (wmt17/wmt18)\n",
    "format: wmt18\n",
    "\n",
    "# Format of predictions (wmt17/wmt18). Either they predict gaps or not.\n",
    "pred-format: wmt17\n",
    "\n",
    "# File path for the reference files\n",
    "gold-target: data/word-level/en_de.nmt/dev.tags\n",
    "\n",
    "# File path for the prediction files\n",
    "pred-target: predictions_transfer3/linear/dev/tags"
   ]
  },
  {
   "cell_type": "code",
   "execution_count": 111,
   "id": "35dbb8c7",
   "metadata": {
    "scrolled": false
   },
   "outputs": [
    {
     "name": "stdout",
     "output_type": "stream",
     "text": [
      "----------------------------------------------------------------------------\r\n",
      "Word-level scores for tags:\r\n",
      "File                                     F1_mult      F1_OK        F1_BAD   \r\n",
      "predictions_transfer3/linear/dev/tags    0.43880      0.91742      0.47830  \r\n"
     ]
    }
   ],
   "source": [
    "save_config(stackedtag_evaluate_3, 'stackedtag_evaluate_3.yml')\n",
    "!kiwi evaluate --config stackedtag_evaluate_3.yml"
   ]
  },
  {
   "cell_type": "code",
   "execution_count": 112,
   "id": "1f310b34",
   "metadata": {},
   "outputs": [
    {
     "data": {
      "application/javascript": [
       "\n",
       "            require(\n",
       "                [\n",
       "                    \"notebook/js/codecell\",\n",
       "                    \"codemirror/mode/yaml/yaml\"\n",
       "                ],\n",
       "                function(cc){\n",
       "                    cc.CodeCell.options_default.highlight_modes.magic_yaml = {\n",
       "                        reg: [\"^%%yaml\"]\n",
       "                    }\n",
       "                }\n",
       "            );\n",
       "            "
      ],
      "text/plain": [
       "<IPython.core.display.Javascript object>"
      ]
     },
     "metadata": {},
     "output_type": "display_data"
    }
   ],
   "source": [
    "%%yaml targettags_evaluate_3\n",
    "# ==========  Average Ensemble Model (target tags)  ==========\n",
    "# Example file for configuring the evaluation pipeline\n",
    "#\n",
    "# The input type for prediction files (Probabilities[probs] or tags)\n",
    "# type: tags\n",
    " \n",
    "# The format of gold files (wmt17/wmt18)\n",
    "format: wmt18\n",
    "\n",
    "# Format of predictions (wmt17/wmt18). Either they predict gaps or not.\n",
    "pred-format: wmt17\n",
    "\n",
    "# File path for the reference files\n",
    "gold-target: data/word-level/en_de.nmt/dev.tags\n",
    "\n",
    "# File path for the prediction files\n",
    "pred-target: [predictions_transfer3/estimator/target_1/dev/tags,\n",
    "              predictions_transfer3/estimator/target_2/dev/tags,\n",
    "              predictions_transfer3/estimator/target_3/dev/tags,\n",
    "              predictions_transfer3/estimator/target_4/dev/tags,\n",
    "              predictions_baseline/ape/src_pe/dev/tags,\n",
    "              predictions_baseline/ape/mt_pe/dev/tags,\n",
    "              predictions_baseline/nuqe/target/dev/tags]"
   ]
  },
  {
   "cell_type": "code",
   "execution_count": 113,
   "id": "8d36446f",
   "metadata": {
    "scrolled": true
   },
   "outputs": [
    {
     "name": "stdout",
     "output_type": "stream",
     "text": [
      "----------------------------------------------------------------------------------------\r\n",
      "Word-level scores for tags:\r\n",
      "File                                                 F1_mult      F1_OK        F1_BAD   \r\n",
      "*ensemble*                                           0.42097      0.93072      0.45230  \r\n",
      "predictions_transfer3/estimator/target_4/dev/tags    0.37832      0.9049       0.41808  \r\n",
      "predictions_baseline/ape/src_pe/dev/tags             0.37535      0.87182      0.43054  \r\n",
      "predictions_transfer3/estimator/target_1/dev/tags    0.37397      0.89699      0.41691  \r\n",
      "predictions_transfer3/estimator/target_2/dev/tags    0.36687      0.91339      0.40165  \r\n",
      "predictions_transfer3/estimator/target_3/dev/tags    0.36580      0.90551      0.40397  \r\n",
      "predictions_baseline/nuqe/target/dev/tags            0.31824      0.90716      0.35080  \r\n",
      "predictions_baseline/ape/mt_pe/dev/tags              0.10961      0.93035      0.11782  \r\n"
     ]
    }
   ],
   "source": [
    "save_config(targettags_evaluate_3, 'targettags_evaluate_3.yml')\n",
    "!kiwi evaluate --config targettags_evaluate_3.yml"
   ]
  },
  {
   "cell_type": "code",
   "execution_count": 114,
   "id": "655b98a7",
   "metadata": {},
   "outputs": [
    {
     "data": {
      "application/javascript": [
       "\n",
       "            require(\n",
       "                [\n",
       "                    \"notebook/js/codecell\",\n",
       "                    \"codemirror/mode/yaml/yaml\"\n",
       "                ],\n",
       "                function(cc){\n",
       "                    cc.CodeCell.options_default.highlight_modes.magic_yaml = {\n",
       "                        reg: [\"^%%yaml\"]\n",
       "                    }\n",
       "                }\n",
       "            );\n",
       "            "
      ],
      "text/plain": [
       "<IPython.core.display.Javascript object>"
      ]
     },
     "metadata": {},
     "output_type": "display_data"
    }
   ],
   "source": [
    "%%yaml gaptags_evaluate_3\n",
    "# ==========  Average Ensemble Model (gap tags)  ==========\n",
    "# Example file for configuring the evaluation pipeline\n",
    "#\n",
    "# The input type for prediction files (Probabilities[probs] or tags)\n",
    "# type: tags\n",
    " \n",
    "# The format of gold files (wmt17/wmt18)\n",
    "format: wmt18\n",
    "\n",
    "# Format of predictions (wmt17/wmt18). Either they predict gaps or not.\n",
    "pred-format: wmt17\n",
    "\n",
    "# File path for the reference files\n",
    "gold-target: data/word-level/en_de.nmt/dev.tags\n",
    "\n",
    "# File path for the prediction files\n",
    "pred-gaps: [predictions_transfer3/estimator/target_1/dev/gap_tags,\n",
    "              predictions_transfer3/estimator/target_2/dev/gap_tags,\n",
    "              predictions_transfer3/estimator/target_3/dev/gap_tags,\n",
    "              predictions_transfer3/estimator/target_4/dev/gap_tags,\n",
    "              predictions_baseline/ape/src_pe/dev/gap_tags,\n",
    "              predictions_baseline/ape/mt_pe/dev/gap_tags,\n",
    "              predictions_baseline/nuqe/gaps/dev/gap_tags]"
   ]
  },
  {
   "cell_type": "code",
   "execution_count": 115,
   "id": "e955cc1b",
   "metadata": {
    "scrolled": true
   },
   "outputs": [
    {
     "name": "stdout",
     "output_type": "stream",
     "text": [
      "--------------------------------------------------------------------------------------------\r\n",
      "Word-level scores for gap_tags:\r\n",
      "File                                                     F1_mult      F1_OK        F1_BAD   \r\n",
      "*ensemble*                                               0.25272      0.98899      0.25554  \r\n",
      "predictions_baseline/ape/src_pe/dev/gap_tags             0.21709      0.97691      0.22222  \r\n",
      "predictions_baseline/ape/mt_pe/dev/gap_tags              0.18978      0.98749      0.19218  \r\n",
      "predictions_transfer3/estimator/target_3/dev/gap_tags    0.18477      0.97854      0.18882  \r\n",
      "predictions_transfer3/estimator/target_2/dev/gap_tags    0.18188      0.97857      0.18587  \r\n",
      "predictions_transfer3/estimator/target_4/dev/gap_tags    0.17807      0.97755      0.18216  \r\n",
      "predictions_transfer3/estimator/target_1/dev/gap_tags    0.17684      0.97828      0.18077  \r\n",
      "predictions_baseline/nuqe/gaps/dev/gap_tags              0.16613      0.98256      0.16908  \r\n"
     ]
    }
   ],
   "source": [
    "save_config(gaptags_evaluate_3, 'gaptags_evaluate_3.yml')\n",
    "!kiwi evaluate --config gaptags_evaluate_3.yml "
   ]
  },
  {
   "cell_type": "code",
   "execution_count": 116,
   "id": "d84712a5",
   "metadata": {},
   "outputs": [
    {
     "data": {
      "application/javascript": [
       "\n",
       "            require(\n",
       "                [\n",
       "                    \"notebook/js/codecell\",\n",
       "                    \"codemirror/mode/yaml/yaml\"\n",
       "                ],\n",
       "                function(cc){\n",
       "                    cc.CodeCell.options_default.highlight_modes.magic_yaml = {\n",
       "                        reg: [\"^%%yaml\"]\n",
       "                    }\n",
       "                }\n",
       "            );\n",
       "            "
      ],
      "text/plain": [
       "<IPython.core.display.Javascript object>"
      ]
     },
     "metadata": {},
     "output_type": "display_data"
    }
   ],
   "source": [
    "%%yaml sentencescores_evaluate_3\n",
    "# ==========  Average Ensemble Model (sentence scores)  ==========\n",
    "# Example file for configuring the evaluation pipeline\n",
    "#\n",
    "# The input type for prediction files (Probabilities[probs] or tags)\n",
    "# type: tags\n",
    " \n",
    "# The format of gold files (wmt17/wmt18)\n",
    "format: wmt18\n",
    "\n",
    "# Format of predictions (wmt17/wmt18). Either they predict gaps or not.\n",
    "pred-format: wmt17\n",
    "\n",
    "# File path for the reference files\n",
    "gold-sents: data/sentence_level/en_de/dev.nmt.hter\n",
    "\n",
    "# File path for the prediction files\n",
    "pred-sents: [predictions_transfer3/estimator/target_1/dev/sentence_scores_nospace,\n",
    "              predictions_transfer3/estimator/target_2/dev/sentence_scores_nospace,\n",
    "              predictions_transfer3/estimator/target_3/dev/sentence_scores_nospace,\n",
    "              predictions_transfer3/estimator/target_4/dev/sentence_scores_nospace]"
   ]
  },
  {
   "cell_type": "code",
   "execution_count": 117,
   "id": "042f6baa",
   "metadata": {
    "scrolled": false
   },
   "outputs": [
    {
     "name": "stdout",
     "output_type": "stream",
     "text": [
      "-----------------------------------------------------------------------------\r\n",
      "Sentence-level scoring:\r\n",
      "File (predictions_transfer3/estimator)    Pearson r    MAE          RMSE     \r\n",
      "*ensemble*                                0.50753      0.11215      0.16433  \r\n",
      "target_4/dev/sentence_scores_nospace      0.49114      0.10923      0.16677  \r\n",
      "target_1/dev/sentence_scores_nospace      0.48519      0.11469      0.16632  \r\n",
      "target_2/dev/sentence_scores_nospace      0.47103      0.11225      0.16892  \r\n",
      "target_3/dev/sentence_scores_nospace      0.45226      0.12416      0.17172  \r\n",
      "-----------------------------------------------------------------------------\r\n",
      "Sentence-level ranking:\r\n",
      "File (predictions_transfer3/estimator)    Spearman r    DeltaAvg \r\n",
      "*ensemble*                                0.56914       0.08264  \r\n",
      "target_2/dev/sentence_scores_nospace      0.55594       0.08118  \r\n",
      "target_4/dev/sentence_scores_nospace      0.55583       0.07905  \r\n",
      "target_3/dev/sentence_scores_nospace      0.54291       0.07914  \r\n",
      "target_1/dev/sentence_scores_nospace      0.53033       0.07942  \r\n"
     ]
    }
   ],
   "source": [
    "save_config(sentencescores_evaluate_3, 'sentencescores_evaluate_3.yml')\n",
    "!kiwi evaluate --config sentencescores_evaluate_3.yml "
   ]
  },
  {
   "cell_type": "code",
   "execution_count": null,
   "id": "5c0426ad",
   "metadata": {},
   "outputs": [],
   "source": []
  }
 ],
 "metadata": {
  "kernelspec": {
   "display_name": "Python 3 (ipykernel)",
   "language": "python",
   "name": "python3"
  },
  "language_info": {
   "codemirror_mode": {
    "name": "ipython",
    "version": 3
   },
   "file_extension": ".py",
   "mimetype": "text/x-python",
   "name": "python",
   "nbconvert_exporter": "python",
   "pygments_lexer": "ipython3",
   "version": "3.8.12"
  }
 },
 "nbformat": 4,
 "nbformat_minor": 5
}
