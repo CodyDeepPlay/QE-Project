{
 "cells": [
  {
   "cell_type": "code",
   "execution_count": null,
   "metadata": {},
   "outputs": [],
   "source": [
    "import glob\n",
    "import kiwi\n",
    "import os\n",
    "#pip install openkiwi==0.1.1"
   ]
  },
  {
   "cell_type": "code",
   "execution_count": null,
   "metadata": {},
   "outputs": [],
   "source": [
    "path = os.getcwd() + '/experiments/*.yaml'\n",
    "yamllist = [f for f in glob.glob(path)]"
   ]
  },
  {
   "cell_type": "code",
   "execution_count": null,
   "metadata": {},
   "outputs": [],
   "source": [
    "# config = 'experiments/train_estimator_target1_1.yaml'\n",
    "# config = 'experiments/train_estimator_target2_1.yaml'\n",
    "# config = 'experiments/train_estimator_target3_1.yaml'\n",
    "# config = 'experiments/train_estimator_target4_1.yaml'\n",
    "\n",
    "# config = 'experiments/train_estimator_target1_2.yaml'\n",
    "# config = 'experiments/train_estimator_target2_2.yaml'\n",
    "# config = 'experiments/train_estimator_target3_2.yaml'\n",
    "# config = 'experiments/train_estimator_target4_2.yaml'\n",
    "# kiwi.train(config)\n",
    "for yml in yamllist:\n",
    "    kiwi.train(yml)"
   ]
  },
  {
   "cell_type": "code",
   "execution_count": 3,
   "metadata": {},
   "outputs": [],
   "source": [
    "# Note: test learned model\n",
    "# do not include code here \n",
    "model = kiwi.load_model('best_model.torch')"
   ]
  },
  {
   "cell_type": "code",
   "execution_count": 4,
   "metadata": {},
   "outputs": [],
   "source": [
    "# Note: test learned model\n",
    "# do not include code here \n",
    "source = ['the part of the regular expression within the forward slashes defines the pattern .']\n",
    "target = ['der Teil des regulären Ausdrucks innerhalb der umgekehrten Schrägstrich definiert das Muster .']\n",
    "examples = {'source': source,'target': target}"
   ]
  },
  {
   "cell_type": "code",
   "execution_count": 5,
   "metadata": {},
   "outputs": [
    {
     "data": {
      "text/plain": [
       "{'tags': [[0.044010769575834274,\n",
       "   0.012351639568805695,\n",
       "   0.005613597109913826,\n",
       "   0.005581333767622709,\n",
       "   0.025020018219947815,\n",
       "   0.07525301724672318,\n",
       "   0.6869252920150757,\n",
       "   0.5923915505409241,\n",
       "   0.9343612194061279,\n",
       "   0.11313727498054504,\n",
       "   0.09138824045658112,\n",
       "   0.13196662068367004,\n",
       "   0.022563081234693527]],\n",
       " 'gap_tags': [[0.005983715411275625,\n",
       "   0.0013897569151595235,\n",
       "   0.0002148885396309197,\n",
       "   0.00015773618360981345,\n",
       "   0.00023816061730030924,\n",
       "   0.014239651151001453,\n",
       "   0.005160367116332054,\n",
       "   0.0020654750987887383,\n",
       "   0.004745024256408215,\n",
       "   0.008046897128224373,\n",
       "   0.03387504816055298,\n",
       "   0.014190885238349438,\n",
       "   0.18051980435848236,\n",
       "   0.001942315953783691]],\n",
       " 'sentence_scores': [0.10898525267839432]}"
      ]
     },
     "execution_count": 5,
     "metadata": {},
     "output_type": "execute_result"
    }
   ],
   "source": [
    "# Note: test learned model\n",
    "# do not include code here \n",
    "predictions = model.predict(examples)\n",
    "predictions"
   ]
  },
  {
   "cell_type": "code",
   "execution_count": null,
   "metadata": {},
   "outputs": [],
   "source": []
  }
 ],
 "metadata": {
  "kernelspec": {
   "display_name": "Python 3",
   "language": "python",
   "name": "python3"
  },
  "language_info": {
   "codemirror_mode": {
    "name": "ipython",
    "version": 3
   },
   "file_extension": ".py",
   "mimetype": "text/x-python",
   "name": "python",
   "nbconvert_exporter": "python",
   "pygments_lexer": "ipython3",
   "version": "3.6.13"
  }
 },
 "nbformat": 4,
 "nbformat_minor": 2
}
