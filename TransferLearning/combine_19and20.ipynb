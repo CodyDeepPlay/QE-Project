{
 "cells": [
  {
   "cell_type": "code",
   "execution_count": 1,
   "id": "c2c6f6b9",
   "metadata": {},
   "outputs": [],
   "source": [
    "import glob\n",
    "import os\n",
    "import re\n",
    "\n",
    "list_wmt = ['/WMT19/*', '/WMT20/*']\n",
    "# Getting the current work directory (cwd)\n",
    "thisdir = os.getcwd()\n",
    "\n",
    "all_files = []\n",
    "for wmt_name in list_wmt:\n",
    "    path = thisdir + wmt_name\n",
    "    folders = glob.glob(path)\n",
    "    for each in folders:\n",
    "        all_files.append(each)"
   ]
  },
  {
   "cell_type": "code",
   "execution_count": 2,
   "id": "90f36d06",
   "metadata": {},
   "outputs": [],
   "source": [
    "def read_file(input_file, output):\n",
    "    thisdir = os.getcwd()\n",
    "    path = thisdir + output\n",
    "    for files in input_file:\n",
    "        f = open(files, \"r\")\n",
    "        contents = f.read()\n",
    "        file = open(path, 'a')\n",
    "        file.write(contents)\n",
    "        file.close()"
   ]
  },
  {
   "cell_type": "code",
   "execution_count": 6,
   "id": "022b90bd",
   "metadata": {},
   "outputs": [],
   "source": [
    "file1_hter = []\n",
    "file1_tags = []\n",
    "file1_src = []\n",
    "file1_pe = []\n",
    "file1_mt = []\n",
    "file2_hter = []\n",
    "file2_tags = []\n",
    "file2_src = []\n",
    "file2_pe = []\n",
    "file2_mt = []\n",
    "\n",
    "for i in all_files:\n",
    "    if bool(re.match(re.compile(\"/.+train.hter\"), i)) == True:\n",
    "        file1_hter.append(i)\n",
    "    elif bool(re.match(re.compile(\"/.+train.tags\"), i)) == True:\n",
    "        file1_tags.append(i)\n",
    "    elif bool(re.match(re.compile(\"/.+train.src\"), i)) == True:\n",
    "        file1_src.append(i)\n",
    "    elif bool(re.match(re.compile(\"/.+train.pe\"), i)) == True:\n",
    "        file1_pe.append(i)\n",
    "    elif bool(re.match(re.compile(\"/.+train.mt\"), i)) == True:\n",
    "        file1_mt.append(i) \n",
    "    elif bool(re.match(re.compile(\"/.+dev.hter\"), i)) == True:\n",
    "        file2_hter.append(i) \n",
    "    elif bool(re.match(re.compile(\"/.+dev.tags\"), i)) == True:\n",
    "        file2_tags.append(i) \n",
    "    elif bool(re.match(re.compile(\"/.+dev.src\"), i)) == True:\n",
    "        file2_src.append(i)    \n",
    "    elif bool(re.match(re.compile(\"/.+dev.pe\"), i)) == True:\n",
    "        file2_pe.append(i)    \n",
    "    elif bool(re.match(re.compile(\"/.+dev.mt\"), i)) == True:\n",
    "        file2_mt.append(i) "
   ]
  },
  {
   "cell_type": "code",
   "execution_count": null,
   "id": "d44490f2",
   "metadata": {},
   "outputs": [],
   "source": [
    "read_file(file1_hter, \"train.hter\")\n",
    "read_file(file1_tags, \"train.tags\")\n",
    "read_file(file1_src, \"train.src\")\n",
    "read_file(file1_pe, \"train.pe\")\n",
    "read_file(file1_mt, \"train.mt\")\n",
    "read_file(file2_hter, \"dev.hter\")\n",
    "read_file(file2_tags, \"dev.tags\")\n",
    "read_file(file2_src, \"dev.src\")\n",
    "read_file(file2_pe, \"dev.pe\")\n",
    "read_file(file2_mt, \"dev.mt\")"
   ]
  }
 ],
 "metadata": {
  "kernelspec": {
   "display_name": "Python 3 (ipykernel)",
   "language": "python",
   "name": "python3"
  },
  "language_info": {
   "codemirror_mode": {
    "name": "ipython",
    "version": 3
   },
   "file_extension": ".py",
   "mimetype": "text/x-python",
   "name": "python",
   "nbconvert_exporter": "python",
   "pygments_lexer": "ipython3",
   "version": "3.8.12"
  }
 },
 "nbformat": 4,
 "nbformat_minor": 5
}
