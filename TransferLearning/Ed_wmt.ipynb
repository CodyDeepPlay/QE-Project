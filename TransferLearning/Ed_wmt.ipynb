{
 "cells": [
  {
   "cell_type": "code",
   "execution_count": 1,
   "id": "32e0ec8c",
   "metadata": {},
   "outputs": [
    {
     "name": "stderr",
     "output_type": "stream",
     "text": [
      "/Users/zhujingyao/Anaconda/anaconda3/envs/fp/lib/python3.8/site-packages/fuzzywuzzy/fuzz.py:11: UserWarning: Using slow pure-python SequenceMatcher. Install python-Levenshtein to remove this warning\n",
      "  warnings.warn('Using slow pure-python SequenceMatcher. Install python-Levenshtein to remove this warning')\n"
     ]
    }
   ],
   "source": [
    "import glob\n",
    "import os\n",
    "import re\n",
    "# pip install fuzzywuzzy\n",
    "from fuzzywuzzy import fuzz\n",
    "\n",
    "list_wmt = ['/WMT17/*', '/WMT19/*', '/WMT20/*']\n",
    "# Getting the current work directory (cwd)\n",
    "thisdir = os.getcwd()\n",
    "\n",
    "all_files = []\n",
    "for wmt_name in list_wmt:\n",
    "    path = thisdir + wmt_name\n",
    "    folders = glob.glob(path)\n",
    "    for each in folders:\n",
    "        all_files.append(each)"
   ]
  },
  {
   "cell_type": "code",
   "execution_count": 2,
   "id": "22e3e0dc",
   "metadata": {},
   "outputs": [],
   "source": [
    "file1_src = []\n",
    "for i in all_files:\n",
    "    if bool(re.match(re.compile(\"/.+train.src\"), i)) == True:\n",
    "        file1_src.append(i)"
   ]
  },
  {
   "cell_type": "code",
   "execution_count": 3,
   "id": "aabc1c6c",
   "metadata": {},
   "outputs": [],
   "source": [
    "def read_dic(path):\n",
    "# Opening file\n",
    "    file1 = open(path, 'r')\n",
    "    count = 0\n",
    "    dic = {}\n",
    "\n",
    "    # Using for loop\n",
    "    for line in file1:\n",
    "        dict1 = {count: line}\n",
    "        dic.update(dict1)\n",
    "        count += 1\n",
    "\n",
    "    # Closing files\n",
    "    file1.close()\n",
    "    return dic"
   ]
  },
  {
   "cell_type": "code",
   "execution_count": 4,
   "id": "eb2f7702",
   "metadata": {},
   "outputs": [],
   "source": [
    "def value_dic(dic):\n",
    "    value = []\n",
    "    for i in range(len(dic)):\n",
    "        for j in range(len(dic)):\n",
    "            if i != j:\n",
    "                score = fuzz.partial_ratio(dic[i], dic[j])\n",
    "                value.append(score)\n",
    "    return value"
   ]
  },
  {
   "cell_type": "code",
   "execution_count": 5,
   "id": "029570c9",
   "metadata": {},
   "outputs": [],
   "source": [
    "def avg_value(value, dic):\n",
    "    avg_value = []\n",
    "    for i in range(0,len(value),(len(dic)-1)):\n",
    "        output = sum(value[i:i+len(dic)-1])/len(dic)\n",
    "        avg_value.append(output)\n",
    "    return avg_value"
   ]
  },
  {
   "cell_type": "code",
   "execution_count": 6,
   "id": "68208b5a",
   "metadata": {},
   "outputs": [],
   "source": [
    "def final_dic(avg_value):\n",
    "    count = 0\n",
    "    dic3 = {}\n",
    "    for i in avg_value:\n",
    "        dict3 = {count: i}\n",
    "        dic3.update(dict3)    \n",
    "        count = count + 1\n",
    "    return dic3"
   ]
  },
  {
   "cell_type": "code",
   "execution_count": 7,
   "id": "adf9613a",
   "metadata": {},
   "outputs": [],
   "source": [
    "def save_func(order, dic, path):\n",
    "    for i in order:\n",
    "        sentence = dic[i]\n",
    "        file = open(path, 'a')\n",
    "        file.write(sentence)\n",
    "        file.close()"
   ]
  },
  {
   "cell_type": "code",
   "execution_count": null,
   "id": "40b7a5f7",
   "metadata": {},
   "outputs": [],
   "source": [
    "#wmt19\n",
    "dic_trainsrc19 = read_dic('/Users/zhujingyao/Downloads/WMT19/train.src')\n",
    "dic_trainpe19 = read_dic('/Users/zhujingyao/Downloads/WMT19/train.pe')\n",
    "dic_trainmt19 = read_dic('/Users/zhujingyao/Downloads/WMT19/train.mt')\n",
    "dic_traintags19 = read_dic('/Users/zhujingyao/Downloads/WMT19/train.tags')\n",
    "dic_trainhter19 = read_dic('/Users/zhujingyao/Downloads/WMT19/train.hter')\n",
    "#wmt17\n",
    "dic_trainsrc17 = read_dic('/Users/zhujingyao/Downloads/WMT17/train.src')\n",
    "dic_trainpe17 = read_dic('/Users/zhujingyao/Downloads/WMT17/train.pe')\n",
    "dic_trainmt17 = read_dic('/Users/zhujingyao/Downloads/WMT17/train.mt')\n",
    "dic_traintags17 = read_dic('/Users/zhujingyao/Downloads/WMT17/train.tags')\n",
    "dic_trainhter17 = read_dic('/Users/zhujingyao/Downloads/WMT17/train.hter')\n",
    "#wmt20\n",
    "dic_trainsrc20 = read_dic('/Users/zhujingyao/Downloads/WMT20/train.src')\n",
    "dic_trainpe20 = read_dic('/Users/zhujingyao/Downloads/WMT20/train.pe')\n",
    "dic_trainmt20 = read_dic('/Users/zhujingyao/Downloads/WMT20/train.mt')\n",
    "dic_traintags20 = read_dic('/Users/zhujingyao/Downloads/WMT20/train.tags')\n",
    "dic_trainhter20 = read_dic('/Users/zhujingyao/Downloads/WMT20/train.hter')"
   ]
  },
  {
   "cell_type": "code",
   "execution_count": null,
   "id": "19aa4a6e",
   "metadata": {},
   "outputs": [],
   "source": [
    "value_17 = value_dic(dic_trainsrc17)\n",
    "value_19 = value_dic(dic_trainsrc19)\n",
    "value_20 = value_dic(dic_trainsrc20)"
   ]
  },
  {
   "cell_type": "code",
   "execution_count": null,
   "id": "e5270a0f",
   "metadata": {},
   "outputs": [],
   "source": [
    "avg_value17 = avg_value(value_17, dic_trainsrc17)\n",
    "avg_value19 = avg_value(value_19, dic_trainsrc19)\n",
    "avg_value20 = avg_value(value_20, dic_trainsrc20)"
   ]
  },
  {
   "cell_type": "code",
   "execution_count": null,
   "id": "25b045b8",
   "metadata": {},
   "outputs": [],
   "source": [
    "final17 = final_dic(avg_value17)\n",
    "final19 = final_dic(avg_value19)\n",
    "final20 = final_dic(avg_value20)"
   ]
  },
  {
   "cell_type": "code",
   "execution_count": null,
   "id": "45b1e07f",
   "metadata": {},
   "outputs": [],
   "source": [
    "order17 = sorted(final17, key=final17.get)[0:(len(dic_trainsrc17))]\n",
    "order19 = sorted(final19, key=final19.get)[0:(len(dic_trainsrc19))]\n",
    "order20 = sorted(final20, key=final20.get)[0:(len(dic_trainsrc20))]"
   ]
  },
  {
   "cell_type": "code",
   "execution_count": null,
   "id": "122e7679",
   "metadata": {},
   "outputs": [],
   "source": [
    "save_func(order17, dic_trainsrc17, '/Users/zhujingyao/Downloads/WMT17_1/train.src')\n",
    "save_func(order17, dic_trainpe17, '/Users/zhujingyao/Downloads/WMT17_1/train.pe')\n",
    "save_func(order17, dic_trainmt17, '/Users/zhujingyao/Downloads/WMT17_1/train.mt')\n",
    "save_func(order17, dic_traintags17, '/Users/zhujingyao/Downloads/WMT17_1/train.tags')\n",
    "save_func(order17, dic_trainhter17, '/Users/zhujingyao/Downloads/WMT17_1/train.hter')"
   ]
  },
  {
   "cell_type": "code",
   "execution_count": null,
   "id": "2ccffb9f",
   "metadata": {},
   "outputs": [],
   "source": [
    "save_func(order19, dic_trainsrc19, '/Users/zhujingyao/Downloads/WMT19_1/train.src')\n",
    "save_func(order19, dic_trainpe19, '/Users/zhujingyao/Downloads/WMT19_1/train.pe')\n",
    "save_func(order19, dic_trainmt19, '/Users/zhujingyao/Downloads/WMT19_1/train.mt')\n",
    "save_func(order19, dic_traintags19, '/Users/zhujingyao/Downloads/WMT19_1/train.tags')\n",
    "save_func(order19, dic_trainhter19, '/Users/zhujingyao/Downloads/WMT19_1/train.hter')"
   ]
  },
  {
   "cell_type": "code",
   "execution_count": null,
   "id": "7ae57a5c",
   "metadata": {},
   "outputs": [],
   "source": [
    "save_func(order20, dic_trainsrc20, '/Users/zhujingyao/Downloads/WMT20_1/train.src')\n",
    "save_func(order20, dic_trainpe20, '/Users/zhujingyao/Downloads/WMT20_1/train.pe')\n",
    "save_func(order20, dic_trainmt20, '/Users/zhujingyao/Downloads/WMT20_1/train.mt')\n",
    "save_func(order20, dic_traintags20, '/Users/zhujingyao/Downloads/WMT20_1/train.tags')\n",
    "save_func(order20, dic_trainhter20, '/Users/zhujingyao/Downloads/WMT20_1/train.hter')"
   ]
  },
  {
   "cell_type": "code",
   "execution_count": null,
   "id": "1640dfb4",
   "metadata": {},
   "outputs": [],
   "source": []
  }
 ],
 "metadata": {
  "kernelspec": {
   "display_name": "Python 3 (ipykernel)",
   "language": "python",
   "name": "python3"
  },
  "language_info": {
   "codemirror_mode": {
    "name": "ipython",
    "version": 3
   },
   "file_extension": ".py",
   "mimetype": "text/x-python",
   "name": "python",
   "nbconvert_exporter": "python",
   "pygments_lexer": "ipython3",
   "version": "3.8.12"
  }
 },
 "nbformat": 4,
 "nbformat_minor": 5
}
